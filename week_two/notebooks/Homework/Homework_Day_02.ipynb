{
  "nbformat": 4,
  "nbformat_minor": 0,
  "metadata": {
    "colab": {
      "provenance": []
    },
    "kernelspec": {
      "name": "python3",
      "display_name": "Python 3"
    },
    "language_info": {
      "name": "python"
    }
  },
  "cells": [
    {
      "cell_type": "code",
      "execution_count": null,
      "metadata": {
        "id": "lmpK_B-nt-_A"
      },
      "outputs": [],
      "source": [
        "import math\n",
        "import random\n",
        "import requests\n",
        "import time\n",
        "\n",
        "import numpy as np\n",
        "import torch\n",
        "import torchvision\n",
        "\n",
        "import matplotlib.pyplot as plt\n",
        "import torch.nn.functional as F\n",
        "\n",
        "from io import BytesIO\n",
        "from PIL import Image\n",
        "from scipy.special import erf"
      ]
    },
    {
      "cell_type": "markdown",
      "source": [
        "# Lakota AI Code Camp: Homework Day 2\n",
        "\n",
        "1.  Define the term **matrix**.\n",
        "1.  Define the term **tensor**.\n",
        "1.  Give an example of a data structure that uses a matrix (Hint: the layers we saw today are data structures)\n",
        "1.  Give an example of a data structure that uses a tensor.\n",
        "\n",
        "\n",
        "With the helper functions, display the output of the following convolutional kernels on images"
      ],
      "metadata": {
        "id": "D0Ftbo66uKng"
      }
    },
    {
      "cell_type": "code",
      "source": [
        "def show_image(data, class_list=None):\n",
        "    image, label = data\n",
        "    image = image.numpy().transpose((1, 2, 0))\n",
        "\n",
        "    if class_list:\n",
        "        label = class_list[label]\n",
        "\n",
        "    plt.title(label)\n",
        "\n",
        "    plt.xticks([])\n",
        "    plt.yticks([])\n",
        "\n",
        "    plt.imshow(image)"
      ],
      "metadata": {
        "id": "XeytF_5KuJ9A"
      },
      "execution_count": null,
      "outputs": []
    },
    {
      "cell_type": "code",
      "source": [
        "def get_image(img_loc):\n",
        "\n",
        "    img = Image.open(img_loc)\n",
        "\n",
        "    img_array = np.asarray(img)\n",
        "\n",
        "    return img_array"
      ],
      "metadata": {
        "id": "mJJxXAANv-7Q"
      },
      "execution_count": null,
      "outputs": []
    },
    {
      "cell_type": "code",
      "source": [
        "img_loc1 = './images/image1.jpg'\n",
        "img_loc2 = './images/image2.jpg'\n",
        "img_loc3 = './images/image3.jpg'"
      ],
      "metadata": {
        "id": "AVVeQ6BCwG2d"
      },
      "execution_count": null,
      "outputs": []
    },
    {
      "cell_type": "code",
      "source": [
        "x = torch.tensor([[-1, 0, 1],\n",
        "                  [-1, 0, 1],\n",
        "                  [-1, 0, 1]])\n",
        "y = torch.tensor([[-1, -1, -1],\n",
        "                  [0, 0, 0],\n",
        "                  [1, 1, 1]])\n",
        "\n",
        "weight = torch.stack((x, y))"
      ],
      "metadata": {
        "id": "LqeQneFFvgYE"
      },
      "execution_count": null,
      "outputs": []
    },
    {
      "cell_type": "code",
      "source": [
        "# You will have to change the parameter weight.\n",
        "\n",
        "# F.conv2d(img, weight=weight, stride=1)"
      ],
      "metadata": {
        "id": "0YuKM8d_vWZa"
      },
      "execution_count": null,
      "outputs": []
    },
    {
      "cell_type": "code",
      "source": [],
      "metadata": {
        "id": "sy8j6KGqwsob"
      },
      "execution_count": null,
      "outputs": []
    },
    {
      "cell_type": "code",
      "source": [],
      "metadata": {
        "id": "akTuASIgwslk"
      },
      "execution_count": null,
      "outputs": []
    },
    {
      "cell_type": "code",
      "source": [],
      "metadata": {
        "id": "lljPMRA1wsel"
      },
      "execution_count": null,
      "outputs": []
    },
    {
      "cell_type": "markdown",
      "source": [
        "Implement gaxpy by using the following numpy functions.\n",
        "\n",
        "Recall that gaxpy is defined by the following update:\n",
        "$$\n",
        "y_{i} = y_{i} + \\sum_{j = 1}^{n} a_{ij}x_{j} \\quad i = 1, \\ldots, m,\n",
        "$$\n",
        "where $a_{ij}$ are the entries of an $m \\times n$ matrix and $y_{i}$ are the entries of an $m$-dimensional vector and $x_{j}$ ar the entries of a $n$-dimensional vector.\n",
        "\n",
        "Try to use `np.dot`:\n",
        "\n",
        "https://numpy.org/doc/stable/reference/generated/numpy.dot.html\n",
        "\n",
        "Matrix, vector, and input will be assumed to be numpy arrays."
      ],
      "metadata": {
        "id": "qlurLaMqwrrP"
      }
    },
    {
      "cell_type": "code",
      "source": [
        "def gaxpy(matrix, vector, input):\n",
        "    # matrix is the matrix defined by a_{ij} above.\n",
        "    # vector is the vector x_{j} above.\n",
        "    # input is the vector y_{i} above.\n",
        "    # Your code goes here\n",
        "\n",
        "    output = np.zeros(input)\n",
        "\n",
        "    return output"
      ],
      "metadata": {
        "id": "vsjlKFdexrtr"
      },
      "execution_count": null,
      "outputs": []
    },
    {
      "cell_type": "code",
      "source": [
        "for _ in range(1000):\n",
        "\n",
        "    n = np.random.randint(low=0, high=100)\n",
        "    m = np.random.randint(low=0, high=100)\n",
        "\n",
        "    matrix = np.random.randn(n, m)\n",
        "    vector = np.random.randn(m)\n",
        "    input = np.zeros(n)\n",
        "\n",
        "    g = gaxpy(matrix, vector, input)\n",
        "    actual = np.matmul(matrix, vector) + input\n",
        "\n",
        "    np.testing.assert_allclose(g, actual)"
      ],
      "metadata": {
        "id": "Tp-7VarT2I2T"
      },
      "execution_count": null,
      "outputs": []
    }
  ]
}