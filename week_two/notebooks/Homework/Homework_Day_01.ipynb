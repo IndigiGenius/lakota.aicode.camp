{
  "nbformat": 4,
  "nbformat_minor": 0,
  "metadata": {
    "colab": {
      "provenance": []
    },
    "kernelspec": {
      "name": "python3",
      "display_name": "Python 3"
    },
    "language_info": {
      "name": "python"
    }
  },
  "cells": [
    {
      "cell_type": "code",
      "execution_count": null,
      "metadata": {
        "id": "3NMF4qdDSzQu"
      },
      "outputs": [],
      "source": [
        "import pprint\n",
        "import requests\n",
        "import time\n",
        "\n",
        "import numpy as np\n",
        "import torch\n",
        "import torchvision\n",
        "\n",
        "import matplotlib.pyplot as plt\n",
        "import torch.nn.functional as F\n",
        "\n",
        "from io import BytesIO\n",
        "from PIL import Image"
      ]
    },
    {
      "cell_type": "markdown",
      "source": [
        "# Lakota AI Code Camp: Homework Day 1\n",
        "\n",
        "1.  What is deep learning?\n",
        "1.  Define image recognition.\n",
        "1.  Define object detection.\n",
        "\n"
      ],
      "metadata": {
        "id": "OXAc0YJlS4IL"
      }
    },
    {
      "cell_type": "markdown",
      "source": [
        "Implement saxpy using the starter code and the following formula:\n",
        "Given a scalar $a$ and two vectors of the same dimension $x$ and $y$, then `saxpy(a, x, y)` is given by the follwing formula\n",
        "$$\n",
        "\\textrm{saxpy}(a, x, y) = a \\textbf{x} + \\textbf{y} = a \\cdot (x_{1}, \\ldots, x_{n}) + (y_{1}, \\ldots, y_{n}) = (ax_{1} + y_{1}, \\ldots, ax_{n} + y_{n}).\n",
        "$$"
      ],
      "metadata": {
        "id": "FOi68voyTJbq"
      }
    },
    {
      "cell_type": "code",
      "source": [
        "class Vector():\n",
        "\n",
        "    def __init__(self, values):\n",
        "        # This should have an input.\n",
        "        # What do we need to input to create a vector?\n",
        "        self.values = tuple(values)\n",
        "\n",
        "    def __getitem__(self, idx):\n",
        "        return self.values[idx]\n",
        "\n",
        "    def __len__(self):\n",
        "\n",
        "        length = 0\n",
        "        for val in self.values:\n",
        "            length += 1\n",
        "        return length\n",
        "\n",
        "    def __add__(self, other):\n",
        "        if self.__len__() != other.__len__():\n",
        "            raise Exception(f\"Dimension mismatch: {self.__len__()} != {other.__len__}\")\n",
        "\n",
        "        add = []\n",
        "        for x, y in zip(self.values, other.values):\n",
        "            add.append(x + y)\n",
        "        return Vector(add)\n",
        "\n",
        "    def __sub__(self, other):\n",
        "        if self.__len__() != other.__len__():\n",
        "            raise Exception(f\"Dimension mismatch: {self.__len__()} != {other.__len__}\")\n",
        "\n",
        "        sub = []\n",
        "        for x, y in zip(self.values, other.values):\n",
        "            sub.append(x - y)\n",
        "        return Vector(sub)\n",
        "\n",
        "    def __mul__(self, scalar):\n",
        "        if type(scalar) not in [int, float]:\n",
        "            raise Exception(f\"{scalar} is not an integer or a float\")\n",
        "\n",
        "        mul = []\n",
        "        for val in self.values:\n",
        "            mul.append(val * scalar)\n",
        "        return Vector(mul)\n",
        "\n",
        "    def __repr__(self):\n",
        "        return f\"Vector({self.values})\"\n",
        "\n",
        "    def __str__(self):\n",
        "        vec_string = ''\n",
        "        for idx in range(self.__len__()):\n",
        "            vec_string = vec_string + str(self[idx]) + ', '\n",
        "        vec_string = \"(\" + vec_string[:-2] + \")\"\n",
        "        return \"Vector\" + vec_string"
      ],
      "metadata": {
        "id": "lMLF26n6TO5f"
      },
      "execution_count": null,
      "outputs": []
    },
    {
      "cell_type": "code",
      "source": [
        "def saxpy(a, x, y):\n",
        "    # a is a scalar\n",
        "    # x and y are in the vector class\n",
        "    # Your code goes here, don't forget to erase the \"raise NotImplementedError\" below.\n",
        "    raise NotImplementedError"
      ],
      "metadata": {
        "id": "qufupAZ_TSBS"
      },
      "execution_count": null,
      "outputs": []
    },
    {
      "cell_type": "code",
      "source": [
        "for _ in range(100):\n",
        "    n = np.random.randint(low=1, high=100, size=None)\n",
        "    a = np.random.uniform(low=-10, high=10, size=None)\n",
        "    x = Vector(np.random.uniform(-10, 10, size=(n, )))\n",
        "    y = Vector(np.random.uniform(-10, 10, size=(n, )))\n",
        "    err_vec = saxpy(a, x, y) - Vector(x * a + y)\n",
        "    error = 0\n",
        "    for err in err_vec:\n",
        "        error += err\n",
        "    if error > 1e-5:\n",
        "        print(f\"Error ({error}) is greather than 1e-5\")\n",
        "        break"
      ],
      "metadata": {
        "id": "RsqnjrQHT6hP"
      },
      "execution_count": null,
      "outputs": []
    },
    {
      "cell_type": "markdown",
      "source": [
        "Create an int8 tensor in the following code block."
      ],
      "metadata": {
        "id": "-PW-MLFAW6Cb"
      }
    },
    {
      "cell_type": "code",
      "source": [],
      "metadata": {
        "id": "0OjFWppWU9Xl"
      },
      "execution_count": null,
      "outputs": []
    },
    {
      "cell_type": "markdown",
      "source": [
        "How do you ensure that you're using a GPU during training?\n",
        "\n",
        "Hint: check the following webpage:\n",
        "https://pytorch.org/docs/stable/cuda.html"
      ],
      "metadata": {
        "id": "2Js3jcEvW7tJ"
      }
    }
  ]
}