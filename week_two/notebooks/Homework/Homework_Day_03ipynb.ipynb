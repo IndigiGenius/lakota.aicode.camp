{
  "nbformat": 4,
  "nbformat_minor": 0,
  "metadata": {
    "colab": {
      "provenance": []
    },
    "kernelspec": {
      "name": "python3",
      "display_name": "Python 3"
    },
    "language_info": {
      "name": "python"
    }
  },
  "cells": [
    {
      "cell_type": "code",
      "execution_count": null,
      "metadata": {
        "id": "MRdrWYdQBjCr"
      },
      "outputs": [],
      "source": [
        "import math\n",
        "import random\n",
        "import requests\n",
        "import time\n",
        "\n",
        "import numpy as np\n",
        "import torch\n",
        "import torchvision\n",
        "\n",
        "import matplotlib.pyplot as plt\n",
        "import torch.nn.functional as F\n",
        "\n",
        "from io import BytesIO\n",
        "from PIL import Image\n",
        "from scipy.special import erf"
      ]
    },
    {
      "cell_type": "markdown",
      "source": [
        "# Lakota AI Code Camp: Homework Day 3\n",
        "\n",
        "1.  What is a loss function that can be used for image recognition?\n",
        "1.  What is a metric that we use to measure an image recognition model's performance?\n",
        "1.  What is a metric that we use to measure an object detection model's performance?\n",
        "1.  Write down some bounding box formats."
      ],
      "metadata": {
        "id": "A9dQT4iMBnye"
      }
    },
    {
      "cell_type": "markdown",
      "source": [
        "Write down a function to convert between the following bounding box formats:\n",
        "*   bottom left, top right format to bottom left, width, height format and back.\n",
        "*   bottom left, top right format to center coordinates, height width format and back.\n",
        "*   bottom left, width, height to center coordinates, height, width format and back.\n",
        "\n",
        "The inputs will be a list of 4 floats or a numpy array of shape $(4, )$."
      ],
      "metadata": {
        "id": "w63SsbqoCpjJ"
      }
    },
    {
      "cell_type": "code",
      "source": [],
      "metadata": {
        "id": "4UqOhJeJHgHz"
      },
      "execution_count": null,
      "outputs": []
    }
  ]
}