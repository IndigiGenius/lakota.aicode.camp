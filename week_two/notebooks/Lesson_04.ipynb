{
 "cells": [
  {
   "cell_type": "code",
   "execution_count": 1,
   "metadata": {
    "id": "QZ8ESjQdlopn"
   },
   "outputs": [
    {
     "name": "stderr",
     "output_type": "stream",
     "text": [
      "/usr/local/lib/python3.8/dist-packages/tqdm/auto.py:22: TqdmWarning: IProgress not found. Please update jupyter and ipywidgets. See https://ipywidgets.readthedocs.io/en/stable/user_install.html\n",
      "  from .autonotebook import tqdm as notebook_tqdm\n"
     ]
    }
   ],
   "source": [
    "import requests\n",
    "import time\n",
    "\n",
    "import numpy as np\n",
    "import torch\n",
    "import torchvision\n",
    "\n",
    "import matplotlib.pyplot as plt\n",
    "import torch.nn.functional as F\n",
    "\n",
    "from io import BytesIO\n",
    "from IPython.display import YouTubeVideo\n",
    "from PIL import Image"
   ]
  },
  {
   "cell_type": "markdown",
   "metadata": {
    "id": "X31JoEE9uLRT"
   },
   "source": [
    "# Lakota AI Code Camp Lesson 04: Introduction to PyTorch\n",
    "\n",
    "PyTorch is a machine learning library of Python, designed for the research and development of machine learning, primarily neural networks.\n",
    "Modern research into neural networks uses large arrays of numbers that are optimized using gradient-based methods (you are not expected to know this, we will go into more detail about all of this later!).\n",
    "In addition, it allows the usage of graphics processing units (GPUs) to accelerate training.\n",
    "\n",
    "PyTorch was based off of the Torch library, which provided similar functionality as PyTorch.\n",
    "The major difference was that Torch was not interoperable with Python, whereas PyTorch is.\n",
    "In 2017, Torch stopped active development and the functionality was moved towards the PyTorch library.\n",
    "\n",
    "PyTorch was originally developed by Meta AI (then Facebook AI).\n",
    "Eventually, it became part of the Linux Foundation.\n"
   ]
  },
  {
   "cell_type": "markdown",
   "metadata": {
    "id": "ZttGTHvaC1wS"
   },
   "source": [
    "## Review of Machine Learning\n",
    "\n",
    "Recall that we had machine learning boiled down to a few key points:\n",
    "*   data\n",
    "*   model\n",
    "*   training\n",
    "\n",
    "We need data converted to some numeric format.\n",
    "That numeric format is typically some array."
   ]
  },
  {
   "cell_type": "markdown",
   "metadata": {
    "id": "jdd1TtgY_PlW"
   },
   "source": [
    "## Major Components of PyTorch\n",
    "\n",
    "\n",
    "\n",
    "*   Creation of Tensors:\n",
    "\n",
    "        torch.Tensor\n",
    "*   Creation of neural network layers:\n",
    "\n",
    "        torch.nn\n",
    "*   Creation and access of datasets:\n",
    "\n",
    "        torch.utils.data\n",
    "*   Training of neural network:\n",
    "\n",
    "        torch.optim\n",
    "\n",
    "We'll go into detail in each of these in this lecture and more throughout the rest of the camp.\n",
    "We'll do this by replicating the LeNet image recognition model and we'll train it on the image recognition dataset MNIST (Modified National Institute of Standards).\n",
    "\n",
    "First, we'll:\n",
    "\n",
    "\n",
    "*   define what tensors are;\n",
    "*   go through some methods of creation;\n",
    "*   some methods of manipulating tensors.\n",
    "\n"
   ]
  },
  {
   "cell_type": "markdown",
   "metadata": {
    "id": "wX8k5SUvpUya"
   },
   "source": [
    "## PyTorch Tensors\n",
    "\n",
    "### What are tensors?\n",
    "\n",
    "### Tensor Creation\n",
    "\n",
    "*   torch.tensor()\n",
    "*   from_numpy\n",
    "*   zeroes/zerolike\n",
    "*   ones\n",
    "*   arange\n",
    "*   eye\n",
    "*   empty/empty_like\n",
    "\n",
    "The easiest method to call a tensor is:"
   ]
  },
  {
   "cell_type": "code",
   "execution_count": 2,
   "metadata": {
    "colab": {
     "base_uri": "https://localhost:8080/"
    },
    "id": "i5Js6MgspW1k",
    "outputId": "3ec1b2c7-1ea2-4929-b8be-7dfa2b5f69ce"
   },
   "outputs": [
    {
     "name": "stdout",
     "output_type": "stream",
     "text": [
      "tensor([1, 2, 3])\n"
     ]
    }
   ],
   "source": [
    "a = torch.tensor([1, 2, 3])\n",
    "print(a)"
   ]
  },
  {
   "cell_type": "markdown",
   "metadata": {
    "id": "BtsbtYGT_nhk"
   },
   "source": [
    "We can make a tensor from a numpy ndarray."
   ]
  },
  {
   "cell_type": "code",
   "execution_count": 3,
   "metadata": {
    "colab": {
     "base_uri": "https://localhost:8080/"
    },
    "id": "Cs5So7vM_r6S",
    "outputId": "b83348d2-b4e5-47bd-c60e-3330d8fe2a17"
   },
   "outputs": [
    {
     "data": {
      "text/plain": [
       "tensor([1, 2, 3])"
      ]
     },
     "execution_count": 3,
     "metadata": {},
     "output_type": "execute_result"
    }
   ],
   "source": [
    "torch.tensor(np.array([1, 2, 3]))"
   ]
  },
  {
   "cell_type": "markdown",
   "metadata": {
    "id": "3q0lCKZW_u5_"
   },
   "source": [
    "We can create a tensor of all zeroes."
   ]
  },
  {
   "cell_type": "code",
   "execution_count": 4,
   "metadata": {
    "colab": {
     "base_uri": "https://localhost:8080/"
    },
    "id": "qOR4erZd_yKt",
    "outputId": "897a22c7-6850-43cc-aac3-822de071df9f"
   },
   "outputs": [
    {
     "data": {
      "text/plain": [
       "tensor([[0., 0., 0.]])"
      ]
     },
     "execution_count": 4,
     "metadata": {},
     "output_type": "execute_result"
    }
   ],
   "source": [
    "torch.zeros(size=(1, 3))"
   ]
  },
  {
   "cell_type": "code",
   "execution_count": 5,
   "metadata": {
    "colab": {
     "base_uri": "https://localhost:8080/"
    },
    "id": "goQrr1_w_6Vw",
    "outputId": "aef42516-78ee-4f44-8e1f-1ae32175533b"
   },
   "outputs": [
    {
     "data": {
      "text/plain": [
       "tensor([0, 0, 0])"
      ]
     },
     "execution_count": 5,
     "metadata": {},
     "output_type": "execute_result"
    }
   ],
   "source": [
    "torch.zeros_like(a)"
   ]
  },
  {
   "cell_type": "markdown",
   "metadata": {
    "id": "PTAVdB4y_1RM"
   },
   "source": [
    "We can create a tensor will all ones."
   ]
  },
  {
   "cell_type": "code",
   "execution_count": 6,
   "metadata": {
    "colab": {
     "base_uri": "https://localhost:8080/"
    },
    "id": "esgZzVOe_3OM",
    "outputId": "e8446964-26e8-4798-9b09-b313475be590"
   },
   "outputs": [
    {
     "data": {
      "text/plain": [
       "tensor([[1., 1., 1.]])"
      ]
     },
     "execution_count": 6,
     "metadata": {},
     "output_type": "execute_result"
    }
   ],
   "source": [
    "torch.ones(size=(1, 3))"
   ]
  },
  {
   "cell_type": "code",
   "execution_count": 7,
   "metadata": {
    "colab": {
     "base_uri": "https://localhost:8080/"
    },
    "id": "JExOUwuKAC05",
    "outputId": "ad9dbb8a-6af7-4bab-ec68-179b3fbf003f"
   },
   "outputs": [
    {
     "data": {
      "text/plain": [
       "tensor([1, 1, 1])"
      ]
     },
     "execution_count": 7,
     "metadata": {},
     "output_type": "execute_result"
    }
   ],
   "source": [
    "torch.ones_like(a)"
   ]
  },
  {
   "cell_type": "markdown",
   "metadata": {
    "id": "fYqr6buOAdMH"
   },
   "source": [
    "We can make a tensor that's empty, that is it doesn't initialize the data. Whatever is there is put into the tensor."
   ]
  },
  {
   "cell_type": "code",
   "execution_count": 8,
   "metadata": {
    "colab": {
     "base_uri": "https://localhost:8080/"
    },
    "id": "DgMgzmLLAkcw",
    "outputId": "2096a7c0-2880-42c1-df07-b36fae738299"
   },
   "outputs": [
    {
     "data": {
      "text/plain": [
       "tensor([[0.0000e+00, 0.0000e+00, 8.9683e-44]])"
      ]
     },
     "execution_count": 8,
     "metadata": {},
     "output_type": "execute_result"
    }
   ],
   "source": [
    "torch.empty(size=(1, 3))"
   ]
  },
  {
   "cell_type": "code",
   "execution_count": 9,
   "metadata": {
    "colab": {
     "base_uri": "https://localhost:8080/"
    },
    "id": "UvXcUZxrAlM4",
    "outputId": "8a4c5ea0-9e93-4f9a-bbcb-1650f11b924d"
   },
   "outputs": [
    {
     "data": {
      "text/plain": [
       "tensor([112076144, 112276592,        32])"
      ]
     },
     "execution_count": 9,
     "metadata": {},
     "output_type": "execute_result"
    }
   ],
   "source": [
    "torch.empty_like(a)"
   ]
  },
  {
   "cell_type": "markdown",
   "metadata": {
    "id": "catZt8TwAEVI"
   },
   "source": [
    "We can make a range, like Python's range."
   ]
  },
  {
   "cell_type": "code",
   "execution_count": 10,
   "metadata": {
    "colab": {
     "base_uri": "https://localhost:8080/"
    },
    "id": "_fEziz_8AIp9",
    "outputId": "ef7c32ee-bccb-4b90-a894-443fbab91913"
   },
   "outputs": [
    {
     "data": {
      "text/plain": [
       "tensor([0, 2, 4, 6, 8])"
      ]
     },
     "execution_count": 10,
     "metadata": {},
     "output_type": "execute_result"
    }
   ],
   "source": [
    "torch.arange(0, 10, step=2)"
   ]
  },
  {
   "cell_type": "markdown",
   "metadata": {
    "id": "PAfNHLkkAMlm"
   },
   "source": [
    "We can make an array with ones on the diagonal and zeroes everywhere."
   ]
  },
  {
   "cell_type": "code",
   "execution_count": 11,
   "metadata": {
    "colab": {
     "base_uri": "https://localhost:8080/"
    },
    "id": "PtFfFsleAWK_",
    "outputId": "94a7c89f-d7f8-413b-b1c9-36e648ef95ab"
   },
   "outputs": [
    {
     "data": {
      "text/plain": [
       "tensor([[1., 0., 0.],\n",
       "        [0., 1., 0.],\n",
       "        [0., 0., 1.]])"
      ]
     },
     "execution_count": 11,
     "metadata": {},
     "output_type": "execute_result"
    }
   ],
   "source": [
    "torch.eye(3)"
   ]
  },
  {
   "cell_type": "code",
   "execution_count": 12,
   "metadata": {
    "colab": {
     "base_uri": "https://localhost:8080/"
    },
    "id": "hlgDX07CAZqf",
    "outputId": "706fc6b3-4dea-42c2-fbc5-ee024406f169"
   },
   "outputs": [
    {
     "data": {
      "text/plain": [
       "tensor([[1., 0., 0., 0.],\n",
       "        [0., 1., 0., 0.],\n",
       "        [0., 0., 1., 0.],\n",
       "        [0., 0., 0., 1.]])"
      ]
     },
     "execution_count": 12,
     "metadata": {},
     "output_type": "execute_result"
    }
   ],
   "source": [
    "torch.eye(4)"
   ]
  },
  {
   "cell_type": "code",
   "execution_count": 13,
   "metadata": {
    "colab": {
     "base_uri": "https://localhost:8080/"
    },
    "id": "SDlIjTeMEQZb",
    "outputId": "5149ed01-5177-4c38-abdc-205c48761864"
   },
   "outputs": [
    {
     "data": {
      "text/plain": [
       "tensor([[1., 0., 0., 0.],\n",
       "        [0., 1., 0., 0.],\n",
       "        [0., 0., 1., 0.]])"
      ]
     },
     "execution_count": 13,
     "metadata": {},
     "output_type": "execute_result"
    }
   ],
   "source": [
    "torch.eye(3, 4)"
   ]
  },
  {
   "cell_type": "markdown",
   "metadata": {
    "id": "fWrCaLUxrMq0"
   },
   "source": [
    "### Tensor Manipulation\n",
    "\n",
    "*   concat/cat/concatenate\n",
    "*   hstack\n",
    "*   vstack\n",
    "*   permute\n",
    "*   flaten\n",
    "*   reshape\n",
    "*   squeeze\n",
    "*   unsqueeze\n",
    "\n",
    "torch.concat/torch.cat/torch.concatenate all do the same thing. Concatenate several tensors together."
   ]
  },
  {
   "cell_type": "code",
   "execution_count": 14,
   "metadata": {
    "id": "eCMXHZIfrttr"
   },
   "outputs": [],
   "source": [
    "b = torch.cat((a, a, a))"
   ]
  },
  {
   "cell_type": "code",
   "execution_count": 15,
   "metadata": {
    "colab": {
     "base_uri": "https://localhost:8080/"
    },
    "id": "elmtNQXfA6-g",
    "outputId": "805fba90-b362-407f-d86e-327b945275eb"
   },
   "outputs": [
    {
     "data": {
      "text/plain": [
       "tensor([1, 2, 3, 1, 2, 3, 1, 2, 3])"
      ]
     },
     "execution_count": 15,
     "metadata": {},
     "output_type": "execute_result"
    }
   ],
   "source": [
    "b"
   ]
  },
  {
   "cell_type": "markdown",
   "metadata": {
    "id": "BRZLennqA9T4"
   },
   "source": [
    "hstack is a horizontal stack."
   ]
  },
  {
   "cell_type": "code",
   "execution_count": 16,
   "metadata": {
    "colab": {
     "base_uri": "https://localhost:8080/"
    },
    "id": "DZjFUywuBIo5",
    "outputId": "d0629634-9c19-4de5-faaf-3fd034236067"
   },
   "outputs": [
    {
     "data": {
      "text/plain": [
       "tensor([1, 2, 3, 1, 2, 3, 1, 2, 3])"
      ]
     },
     "execution_count": 16,
     "metadata": {},
     "output_type": "execute_result"
    }
   ],
   "source": [
    "torch.hstack((a, a, a))"
   ]
  },
  {
   "cell_type": "markdown",
   "metadata": {
    "id": "ZkMY9vMXBMcY"
   },
   "source": [
    "vstack is a vertical stack."
   ]
  },
  {
   "cell_type": "code",
   "execution_count": 17,
   "metadata": {
    "colab": {
     "base_uri": "https://localhost:8080/"
    },
    "id": "X37xF7PSBLSx",
    "outputId": "88fccd1c-ea5c-4655-ff03-be6b33d40484"
   },
   "outputs": [
    {
     "data": {
      "text/plain": [
       "tensor([[1, 2, 3],\n",
       "        [1, 2, 3],\n",
       "        [1, 2, 3]])"
      ]
     },
     "execution_count": 17,
     "metadata": {},
     "output_type": "execute_result"
    }
   ],
   "source": [
    "torch.vstack((a, a, a))"
   ]
  },
  {
   "cell_type": "markdown",
   "metadata": {
    "id": "Fne7qdndBR2b"
   },
   "source": [
    "torch.permute changes the dimensions."
   ]
  },
  {
   "cell_type": "code",
   "execution_count": 18,
   "metadata": {
    "id": "MnKgaBzoBRS5"
   },
   "outputs": [],
   "source": [
    "img_src = \"https://learn.microsoft.com/en-us/azure/cognitive-services/computer-vision/images/windows-kitchen.jpg\"\n",
    "\n",
    "resp = requests.get(img_src)\n",
    "\n",
    "img = Image.open(BytesIO(resp.content))\n",
    "\n",
    "img_array = np.asarray(img)\n",
    "\n",
    "img_tensor = torch.tensor(img_array)"
   ]
  },
  {
   "cell_type": "code",
   "execution_count": 19,
   "metadata": {
    "id": "HnMcxbmqCA-7"
   },
   "outputs": [],
   "source": [
    "c = torch.permute(img_tensor, (2, 0, 1))"
   ]
  },
  {
   "cell_type": "code",
   "execution_count": 20,
   "metadata": {
    "colab": {
     "base_uri": "https://localhost:8080/"
    },
    "id": "iLBVWQGbCLA0",
    "outputId": "a49e4eca-4b91-40bc-85e0-4c3f8e6602e8"
   },
   "outputs": [
    {
     "name": "stdout",
     "output_type": "stream",
     "text": [
      "torch.Size([473, 1260, 3]) torch.Size([3, 473, 1260])\n"
     ]
    }
   ],
   "source": [
    "print(img_tensor.shape, c.shape)"
   ]
  },
  {
   "cell_type": "markdown",
   "metadata": {
    "id": "G-oC0lzwCXw8"
   },
   "source": [
    "Flatten turns a multi-dimensional tensor into a a 1-dimensional tensor."
   ]
  },
  {
   "cell_type": "code",
   "execution_count": 21,
   "metadata": {
    "id": "ZIBA_pRYCgvI"
   },
   "outputs": [],
   "source": [
    "d = torch.flatten(c)"
   ]
  },
  {
   "cell_type": "code",
   "execution_count": 22,
   "metadata": {
    "colab": {
     "base_uri": "https://localhost:8080/"
    },
    "id": "E5tkFWjVCSqb",
    "outputId": "016010f9-dff2-42d2-88bd-5e8fcc8c02a1"
   },
   "outputs": [
    {
     "data": {
      "text/plain": [
       "torch.Size([1787940])"
      ]
     },
     "execution_count": 22,
     "metadata": {},
     "output_type": "execute_result"
    }
   ],
   "source": [
    "d.shape"
   ]
  },
  {
   "cell_type": "markdown",
   "metadata": {
    "id": "xtZbvVtnCgIw"
   },
   "source": [
    "Reshape, allows us to change a tensor into any shape as long as the product of the dimensions match."
   ]
  },
  {
   "cell_type": "code",
   "execution_count": 23,
   "metadata": {
    "id": "cntkus5qCn2W"
   },
   "outputs": [],
   "source": [
    "e = d.reshape(img_tensor.shape)"
   ]
  },
  {
   "cell_type": "code",
   "execution_count": 24,
   "metadata": {
    "colab": {
     "base_uri": "https://localhost:8080/"
    },
    "id": "k2ByPmIVCtiB",
    "outputId": "ea6b3b27-756c-4289-ce1b-81f6697eddc4"
   },
   "outputs": [
    {
     "data": {
      "text/plain": [
       "torch.Size([473, 1260, 3])"
      ]
     },
     "execution_count": 24,
     "metadata": {},
     "output_type": "execute_result"
    }
   ],
   "source": [
    "e.shape"
   ]
  },
  {
   "cell_type": "markdown",
   "metadata": {
    "id": "Dl3gxzH2C0DQ"
   },
   "source": [
    "Squeeze gets rid of a dimension and unsqueeze adds a dimension."
   ]
  },
  {
   "cell_type": "code",
   "execution_count": 25,
   "metadata": {
    "id": "f_nfTbkDC3KS"
   },
   "outputs": [],
   "source": [
    "f = e.unsqueeze(0)"
   ]
  },
  {
   "cell_type": "code",
   "execution_count": 26,
   "metadata": {
    "colab": {
     "base_uri": "https://localhost:8080/"
    },
    "id": "6zBjUXZ0C7In",
    "outputId": "ac93bda4-a8c9-4fb5-ad6c-fd4f0d47b7e8"
   },
   "outputs": [
    {
     "data": {
      "text/plain": [
       "torch.Size([1, 473, 1260, 3])"
      ]
     },
     "execution_count": 26,
     "metadata": {},
     "output_type": "execute_result"
    }
   ],
   "source": [
    "f.shape"
   ]
  },
  {
   "cell_type": "code",
   "execution_count": 27,
   "metadata": {
    "id": "AOBn3oo9C8Tv"
   },
   "outputs": [],
   "source": [
    "g = f.squeeze(0)"
   ]
  },
  {
   "cell_type": "code",
   "execution_count": 28,
   "metadata": {
    "colab": {
     "base_uri": "https://localhost:8080/"
    },
    "id": "9GHPb3n-C_hq",
    "outputId": "b563c0ad-63aa-4303-db09-a727eee3e51c"
   },
   "outputs": [
    {
     "data": {
      "text/plain": [
       "torch.Size([473, 1260, 3])"
      ]
     },
     "execution_count": 28,
     "metadata": {},
     "output_type": "execute_result"
    }
   ],
   "source": [
    "g.shape"
   ]
  },
  {
   "cell_type": "markdown",
   "metadata": {
    "id": "OLel_lsmruF2"
   },
   "source": [
    "## torch.nn\n",
    "\n",
    "This portion of the PyTorch library deals with the actual portions of the neural network layers.\n",
    "In particular, almost everything will be a subclass of the\n",
    "```\n",
    "torch.nn.Module\n",
    "```\n",
    "class.\n",
    "This includes our neural network layers, our activation functions, and even our models themselves.\n",
    "The Module has several methods that we will be using throughout the course:\n",
    "*   Parameters (not to be confused with the parameter of a function) are arrays of numbers. Typically they are used with matrix operations (we'll go into a lot of detail about matrix operations over the next several classes) or convolutional operations.\n",
    "        self.parameters\n",
    "*   The state_dict is short for the state dictionary. When we are training a neural network, we're interested in changing the parameters so they give us a better function, in some sense.\n",
    "So, we want to keep parameters that are **good** and the state_dict class variable allows us to do that along with the load_state_dict parameters allow us to do that.\n",
    "        self.state_dict\n",
    "        self.load_state_dict\n",
    "*   This methods takes a torch.device object as a parameter. A torch.device object tells us if we're using a computer (CPU), a graphics processing unit (GPU), or some other accelerator (Google's tensor processing unit (TPU), for example).\n",
    "This method allows us to move all of our parameters to whichever device we want to train on.\n",
    "        self.cuda\n",
    "*   To train a neural network, we need to keep track of something called a gradient.\n",
    "This requires a lot of overhead and extra memory, so PyTorch allows us to say whether or not we want to use keep track of these gradients by using the requires_grad method.\n",
    "The train and eval methods tell us if we want to set up the Module for training or evaluation.\n",
    "We do not need gradients for evaluation.\n",
    "        self.requires_grad\n",
    "        self.train\n",
    "        self.eval\n",
    "\n",
    "We'll describe the architecture of LeNet.\n",
    "We'll use the following layers:\n",
    "\n",
    "*   Convolutional layer\n",
    "\n",
    "        torch.nn.Conv2d\n",
    "*   Pooling layers\n",
    "\n",
    "        torch.nn.AvgPool2d\n",
    "*   Fully connected layers\n",
    "\n",
    "        torch.nn.Linear\n",
    "*   Activation functions\n",
    "\n",
    "        torch.nn.Tanh\n",
    "        torch.nn.ReLU"
   ]
  },
  {
   "cell_type": "code",
   "execution_count": 29,
   "metadata": {
    "id": "v_oAQTrhrzU4"
   },
   "outputs": [],
   "source": [
    "class LeNet(torch.nn.Module):\n",
    "\n",
    "    def __init__(self):\n",
    "        super().__init__()\n",
    "\n",
    "        self.conv1 = torch.nn.Conv2d(in_channels=3,\n",
    "                                     out_channels=6,\n",
    "                                     kernel_size=5,\n",
    "                                     padding=2)\n",
    "        self.conv2 = torch.nn.Conv2d(in_channels=6,\n",
    "                                     out_channels=16,\n",
    "                                     kernel_size=5)\n",
    "        self.pool = torch.nn.AvgPool2d(kernel_size=2,\n",
    "                                       stride=2)\n",
    "        self.fc1 = torch.nn.Linear(in_features=576,\n",
    "                                   out_features=120)\n",
    "        self.fc2 = torch.nn.Linear(in_features=120,\n",
    "                                   out_features=84)\n",
    "        self.fc3 = torch.nn.Linear(in_features=84,\n",
    "                                   out_features=10)\n",
    "        self.activation = torch.nn.Tanh()\n",
    "\n",
    "    def forward(self, x):\n",
    "        x = self.conv1(x)\n",
    "        x = self.activation(x)\n",
    "        x = self.pool(x)\n",
    "        x = self.conv2(x)\n",
    "        x = self.activation(x)\n",
    "        x = self.pool(x)\n",
    "        x = torch.flatten(x, start_dim=1)\n",
    "        x = self.fc1(x)\n",
    "        x = self.activation(x)\n",
    "        x = self.fc2(x)\n",
    "        x = self.activation(x)\n",
    "        x = self.fc3(x)\n",
    "        x = self.activation(x)\n",
    "        return x\n"
   ]
  },
  {
   "cell_type": "code",
   "execution_count": 30,
   "metadata": {
    "id": "tSj6GRnNbpj2"
   },
   "outputs": [],
   "source": [
    "model = LeNet()"
   ]
  },
  {
   "cell_type": "markdown",
   "metadata": {
    "id": "74VD73SzbkGx"
   },
   "source": [
    "## torch.utils.data\n",
    "\n",
    "Now that we have a model, we need data to train the model on.\n",
    "PyTorch has a dataset class and a dataloader class.\n",
    "\n",
    "The dataset class\n",
    "\n",
    "        torch.utils.data.Dataset\n",
    "is essentially an iterable.\n",
    "Each index of the dataset yields an input and a target.\n",
    "The input could be an image, text, video, audio, etc.\n",
    "The target is just some label that we want to give that image.\n",
    "For image recognition, it's the name of an object.\n",
    "For object detection, it's the name of the objects in the picture, paired with a bounding box or contour.\n",
    "\n",
    "The dataset class is sufficient to train a neural network, but it's not as efficient.\n",
    "That's where the dataloader class comes in.\n",
    "The dataloader class takes a dataset as input and outputs a generator that gives us batched data.\n",
    "If we tell it to give us batches of 4, then it will give us 4 images, for example, with their corresponding targets.\n",
    "In particular, it allows us to use as much of the GPU memory as possible.\n",
    "\n",
    "Let's get the CIFAR10 dataset."
   ]
  },
  {
   "cell_type": "markdown",
   "metadata": {
    "id": "BLsLUflJ5aIn"
   },
   "source": [
    "These are the classes in the dataset."
   ]
  },
  {
   "cell_type": "code",
   "execution_count": 31,
   "metadata": {
    "id": "ZHYkbD4C44hB"
   },
   "outputs": [],
   "source": [
    "class_list = ('airplane', 'automobile', 'bird', 'cat', 'deer', 'dog', 'frog', 'horse', 'ship', 'truck')"
   ]
  },
  {
   "cell_type": "markdown",
   "metadata": {
    "id": "_TZYJqZt5b53"
   },
   "source": [
    "While\n",
    "\n",
    "        torchvision.datasets.CIFAR10\n",
    " isn't a\n",
    "\n",
    "        torch.utils.data.Dataset\n",
    "class, it is a subclass of it.\n",
    "We'll download it into the\n",
    "\n",
    "        ./data\n"
   ]
  },
  {
   "cell_type": "code",
   "execution_count": 33,
   "metadata": {
    "colab": {
     "base_uri": "https://localhost:8080/"
    },
    "id": "eMhQRsjI5HAC",
    "outputId": "925626e0-89ac-48c6-e679-e0ba8209106b"
   },
   "outputs": [
    {
     "name": "stdout",
     "output_type": "stream",
     "text": [
      "Downloading https://www.cs.toronto.edu/~kriz/cifar-10-python.tar.gz to ../data/cifar-10-python.tar.gz\n"
     ]
    },
    {
     "name": "stderr",
     "output_type": "stream",
     "text": [
      "100%|████████████████████████████████████████████████████████████████| 170498071/170498071 [01:49<00:00, 1563070.34it/s]\n"
     ]
    },
    {
     "name": "stdout",
     "output_type": "stream",
     "text": [
      "Extracting ../data/cifar-10-python.tar.gz to ../data\n"
     ]
    }
   ],
   "source": [
    "normalize_ds = torchvision.datasets.CIFAR10(root='../data',\n",
    "                                            train=True,\n",
    "                                            download=True,\n",
    "                                            transform=torchvision.transforms.ToTensor(),\n",
    "                                            )\n",
    "normalize_dl = torch.utils.data.DataLoader(normalize_ds,\n",
    "                                           batch_size=len(normalize_ds),\n",
    "                                           shuffle=True,\n",
    "                                           num_workers=0)"
   ]
  },
  {
   "cell_type": "markdown",
   "metadata": {
    "id": "rEeDyBCI7BiO"
   },
   "source": [
    "We're going to normalize the data, which means that we subtract off the mean of the data and divide by the standard deviation of the data."
   ]
  },
  {
   "cell_type": "code",
   "execution_count": 34,
   "metadata": {
    "id": "ovFElfPL5IzO"
   },
   "outputs": [],
   "source": [
    "for data, _ in normalize_dl:\n",
    "    mean = torch.mean(data, (0, 2, 3))\n",
    "    std = torch.std(data, (0, 2, 3))"
   ]
  },
  {
   "cell_type": "markdown",
   "metadata": {
    "id": "nK4kZX087XHG"
   },
   "source": [
    "We want the data to be a torch.Tensor object and then normalized."
   ]
  },
  {
   "cell_type": "code",
   "execution_count": 35,
   "metadata": {
    "id": "uheLSx_75LZv"
   },
   "outputs": [],
   "source": [
    "transform = torchvision.transforms.Compose(\n",
    "    [torchvision.transforms.ToTensor(),\n",
    "     torchvision.transforms.Normalize(mean=mean, std=std),\n",
    "    ]\n",
    ")"
   ]
  },
  {
   "cell_type": "markdown",
   "metadata": {
    "id": "MINGlD-W7eUZ"
   },
   "source": [
    "We get a train dataset and a test dataset."
   ]
  },
  {
   "cell_type": "code",
   "execution_count": 36,
   "metadata": {
    "id": "861bT5C65NgS"
   },
   "outputs": [],
   "source": [
    "train_ds = torchvision.datasets.CIFAR10(root='./data', train=True, transform=transform)\n",
    "test_ds = torchvision.datasets.CIFAR10(root='./data', train=False, transform=transform)"
   ]
  },
  {
   "cell_type": "markdown",
   "metadata": {
    "id": "vrT6Vp7G7jXz"
   },
   "source": [
    "We get the train DataLoader and the test DataLoader."
   ]
  },
  {
   "cell_type": "code",
   "execution_count": 40,
   "metadata": {
    "id": "lrO5napK5PO8"
   },
   "outputs": [],
   "source": [
    "train_loader = torch.utils.data.DataLoader(train_ds,\n",
    "                                          batch_size=len(train_ds) // 8,\n",
    "                                          shuffle=True,\n",
    "                                          num_workers=0,\n",
    "                                          pin_memory=False)\n",
    "test_loader = torch.utils.data.DataLoader(test_ds,\n",
    "                                          batch_size=len(test_ds),\n",
    "                                          shuffle=True,\n",
    "                                          num_workers=0,\n",
    "                                          pin_memory=False)"
   ]
  },
  {
   "cell_type": "markdown",
   "metadata": {
    "id": "fTlfcQQy7m-U"
   },
   "source": [
    "This is a helper function to let us look at what's in the dataset."
   ]
  },
  {
   "cell_type": "code",
   "execution_count": 47,
   "metadata": {
    "id": "r66MqmU45UnY"
   },
   "outputs": [],
   "source": [
    "def imshow(img, label=None, class_list=class_list):\n",
    "    # Pytorch has images in Channel x height x width, this converts to h x w x c\n",
    "    img = img.numpy().transpose((1, 2, 0))\n",
    "    mean = np.array([0.4914, 0.4822, 0.4465])\n",
    "    std = np.array([0.2470, 0.2435, 0.2616])\n",
    "    # undo the normalization\n",
    "    img = std * img + mean\n",
    "    # ensure that array is in the proper range to show the image.\n",
    "    img = np.clip(img, 0, 1)\n",
    "    plt.imshow(img)\n",
    "    if label is not None:\n",
    "        # label is assumed to be a (1, ) tensor\n",
    "        label = label\n",
    "        label = class_list[label]\n",
    "        plt.title(label)\n",
    "    plt.pause(0.001)"
   ]
  },
  {
   "cell_type": "code",
   "execution_count": 48,
   "metadata": {
    "id": "mjyhWUbl7rqH"
   },
   "outputs": [],
   "source": [
    "images, classes = next(iter(train_loader))"
   ]
  },
  {
   "cell_type": "code",
   "execution_count": 49,
   "metadata": {
    "colab": {
     "base_uri": "https://localhost:8080/"
    },
    "id": "OWPO0nIa7tK_",
    "outputId": "f9c783ec-20b7-4c4b-f4d9-2d99b86359d0"
   },
   "outputs": [
    {
     "data": {
      "text/plain": [
       "torch.Size([6250, 3, 32, 32])"
      ]
     },
     "execution_count": 49,
     "metadata": {},
     "output_type": "execute_result"
    }
   ],
   "source": [
    "images.shape"
   ]
  },
  {
   "cell_type": "code",
   "execution_count": 54,
   "metadata": {
    "colab": {
     "base_uri": "https://localhost:8080/",
     "height": 452
    },
    "id": "RcA_PJU27t1G",
    "outputId": "4447b058-5e05-4dfb-fed4-fde9f05ba2bb"
   },
   "outputs": [
    {
     "data": {
      "image/png": "[encoded data removed]",
      "text/plain": [
       "<Figure size 640x480 with 1 Axes>"
      ]
     },
     "metadata": {},
     "output_type": "display_data"
    }
   ],
   "source": [
    "num = np.random.randint(low=0, high=len(train_ds))\n",
    "\n",
    "image, label = train_ds[num]\n",
    "\n",
    "imshow(image, label)"
   ]
  },
  {
   "cell_type": "markdown",
   "metadata": {
    "id": "-hYU2fuF7377"
   },
   "source": [
    "This is a helper function gives us the prediction."
   ]
  },
  {
   "cell_type": "code",
   "execution_count": 55,
   "metadata": {
    "id": "iqA-kk4g76jt"
   },
   "outputs": [],
   "source": [
    "def make_prediction(model, image, class_list=class_list):\n",
    "\n",
    "    image = image.unsqueeze(0)\n",
    "    pred = model(image)\n",
    "    pred = torch.argmax(pred)\n",
    "    return class_list[pred]"
   ]
  },
  {
   "cell_type": "code",
   "execution_count": 56,
   "metadata": {
    "colab": {
     "base_uri": "https://localhost:8080/",
     "height": 35
    },
    "id": "jELvIj-78C-T",
    "outputId": "cac69f89-66d1-491b-8817-4ff3da1dc6df"
   },
   "outputs": [
    {
     "data": {
      "text/plain": [
       "'horse'"
      ]
     },
     "execution_count": 56,
     "metadata": {},
     "output_type": "execute_result"
    }
   ],
   "source": [
    "make_prediction(model, image)"
   ]
  },
  {
   "cell_type": "markdown",
   "metadata": {
    "id": "1YZQhiD_8FZT"
   },
   "source": [
    "This is a helper function that let's us train a model."
   ]
  },
  {
   "cell_type": "code",
   "execution_count": 57,
   "metadata": {
    "id": "C7EvX2bd8JID"
   },
   "outputs": [],
   "source": [
    "def train(model, train_loader, criterion, opt, epochs=10):\n",
    "    history = []\n",
    "    device = torch.device('cuda:0' if torch.cuda.is_available() else 'cpu')\n",
    "    model.to(device)\n",
    "\n",
    "    print(\"Epoch | Batch | Time(s) | Loss\")\n",
    "    print(\"------------------------------\")\n",
    "\n",
    "    step = 0\n",
    "\n",
    "    for epoch in range(epochs):\n",
    "        running_loss = 0.0\n",
    "        t = time.time()\n",
    "\n",
    "        for batch, (inputs, label) in enumerate(train_loader, 0):\n",
    "            inputs, label = inputs.to(device), label.to(device)\n",
    "\n",
    "            opt.zero_grad(set_to_none=True)\n",
    "\n",
    "            outputs = model(inputs)\n",
    "            loss = criterion(outputs, label)\n",
    "\n",
    "            loss.backward()\n",
    "            opt.step()\n",
    "\n",
    "            running_loss += loss.item()\n",
    "            step += 1\n",
    "            history.append((step, loss))\n",
    "\n",
    "            t = time.time() - t\n",
    "            print(f\"{epoch + 1:5d} | {batch+1:5d} | {t:.2f} | {running_loss:.5f}\")\n",
    "            running_loss = 0\n",
    "\n",
    "    return history"
   ]
  },
  {
   "cell_type": "markdown",
   "metadata": {
    "id": "vezGntZT8Ld0"
   },
   "source": [
    "This is a helper function that evaulates how well our model did."
   ]
  },
  {
   "cell_type": "code",
   "execution_count": 58,
   "metadata": {
    "id": "Xb1_hnPt8OoZ"
   },
   "outputs": [],
   "source": [
    "def evaluate(model, testloader):\n",
    "    model.eval()\n",
    "    correct = 0\n",
    "    total = 0\n",
    "\n",
    "    with torch.no_grad():\n",
    "        for inputs, label in test_loader:\n",
    "            inputs, label = inputs.to(device), label.to(device)\n",
    "            outputs = model(inputs)\n",
    "\n",
    "            _, predicted = torch.max(outputs.data, 1)\n",
    "            total += label.size(0)\n",
    "            correct += (predicted == label).sum().item()\n",
    "\n",
    "    print(f'Accuracy of the network on 10000 test images: {100 * correct // total} %')\n",
    "    return 100 * correct // total"
   ]
  },
  {
   "cell_type": "markdown",
   "metadata": {
    "id": "YDFsRGHd8QbY"
   },
   "source": [
    "We're putting it on the GPU if we can put it on the GPU, otherwise, we're putting it on the CPU."
   ]
  },
  {
   "cell_type": "code",
   "execution_count": 59,
   "metadata": {
    "colab": {
     "base_uri": "https://localhost:8080/"
    },
    "id": "cuGSLcE_8UWL",
    "outputId": "8adf2d07-c227-467c-e5ed-32f1e35710ee"
   },
   "outputs": [
    {
     "name": "stdout",
     "output_type": "stream",
     "text": [
      "cuda:0\n"
     ]
    }
   ],
   "source": [
    "device = torch.device('cuda:0' if torch.cuda.is_available() else 'cpu')\n",
    "print(device)\n",
    "model = model.to(device)\n",
    "\n",
    "criterion = torch.nn.CrossEntropyLoss()\n",
    "opt = torch.optim.SGD(model.parameters(), lr=1e-1, momentum=0.9)"
   ]
  },
  {
   "cell_type": "markdown",
   "metadata": {
    "id": "eu_LtlkP8V4C"
   },
   "source": [
    "We'll evaulate before training."
   ]
  },
  {
   "cell_type": "code",
   "execution_count": 60,
   "metadata": {
    "colab": {
     "base_uri": "https://localhost:8080/"
    },
    "id": "cxVWljJx8Xqx",
    "outputId": "0902934b-3137-429a-fdc1-4307e32d7336"
   },
   "outputs": [
    {
     "name": "stdout",
     "output_type": "stream",
     "text": [
      "Accuracy of the network on 10000 test images: 9 %\n"
     ]
    },
    {
     "data": {
      "text/plain": [
       "9"
      ]
     },
     "execution_count": 60,
     "metadata": {},
     "output_type": "execute_result"
    }
   ],
   "source": [
    "evaluate(model, test_loader)"
   ]
  },
  {
   "cell_type": "markdown",
   "metadata": {
    "id": "SaWBw2hD8YQo"
   },
   "source": [
    "Now, we train the model."
   ]
  },
  {
   "cell_type": "code",
   "execution_count": 63,
   "metadata": {
    "colab": {
     "base_uri": "https://localhost:8080/"
    },
    "id": "kLb0s_mS8bVL",
    "outputId": "e704b0d6-abae-4795-ab10-aa629381e6ad"
   },
   "outputs": [
    {
     "name": "stdout",
     "output_type": "stream",
     "text": [
      "Epoch | Batch | Time(s) | Loss\n",
      "------------------------------\n",
      "    1 |     0 |        2 | 1.79909\n",
      "    1 |     1 | 1687281937 | 1.78175\n",
      "    1 |     2 |        3 | 1.78900\n",
      "    1 |     3 | 1687281938 | 1.77636\n",
      "    1 |     4 |        4 | 1.78148\n",
      "    1 |     5 | 1687281939 | 1.78561\n",
      "    1 |     6 |        5 | 1.77736\n",
      "    1 |     7 | 1687281940 | 1.76821\n",
      "    2 |     0 |        1 | 1.76764\n",
      "    2 |     1 | 1687281945 | 1.76393\n",
      "    2 |     2 |        2 | 1.75253\n",
      "    2 |     3 | 1687281946 | 1.75856\n",
      "    2 |     4 |        3 | 1.75953\n",
      "    2 |     5 | 1687281947 | 1.76121\n",
      "    2 |     6 |        4 | 1.75540\n",
      "    2 |     7 | 1687281948 | 1.75954\n",
      "    3 |     0 |        1 | 1.74557\n",
      "    3 |     1 | 1687281953 | 1.74732\n",
      "    3 |     2 |        2 | 1.72921\n",
      "    3 |     3 | 1687281953 | 1.73742\n",
      "    3 |     4 |        2 | 1.75440\n",
      "    3 |     5 | 1687281954 | 1.74042\n",
      "    3 |     6 |        3 | 1.72165\n",
      "    3 |     7 | 1687281955 | 1.73329\n",
      "    4 |     0 |        1 | 1.73354\n",
      "    4 |     1 | 1687281960 | 1.73627\n",
      "    4 |     2 |        2 | 1.71261\n",
      "    4 |     3 | 1687281961 | 1.71381\n",
      "    4 |     4 |        2 | 1.72301\n",
      "    4 |     5 | 1687281961 | 1.72176\n",
      "    4 |     6 |        3 | 1.71239\n",
      "    4 |     7 | 1687281962 | 1.71746\n",
      "    5 |     0 |        1 | 1.70820\n",
      "    5 |     1 | 1687281967 | 1.71103\n",
      "    5 |     2 |        2 | 1.71222\n",
      "    5 |     3 | 1687281968 | 1.69092\n",
      "    5 |     4 |        3 | 1.71472\n",
      "    5 |     5 | 1687281969 | 1.70323\n",
      "    5 |     6 |        4 | 1.70801\n",
      "    5 |     7 | 1687281969 | 1.70198\n",
      "    6 |     0 |        1 | 1.70102\n",
      "    6 |     1 | 1687281975 | 1.68546\n",
      "    6 |     2 |        2 | 1.69357\n",
      "    6 |     3 | 1687281975 | 1.69125\n",
      "    6 |     4 |        3 | 1.69208\n",
      "    6 |     5 | 1687281976 | 1.68932\n",
      "    6 |     6 |        3 | 1.67684\n",
      "    6 |     7 | 1687281977 | 1.68741\n",
      "    7 |     0 |        1 | 1.67812\n",
      "    7 |     1 | 1687281982 | 1.66859\n",
      "    7 |     2 |        2 | 1.68246\n",
      "    7 |     3 | 1687281983 | 1.67934\n",
      "    7 |     4 |        2 | 1.66897\n",
      "    7 |     5 | 1687281983 | 1.69051\n",
      "    7 |     6 |        3 | 1.67539\n",
      "    7 |     7 | 1687281984 | 1.67300\n",
      "    8 |     0 |        1 | 1.67567\n",
      "    8 |     1 | 1687281989 | 1.66938\n",
      "    8 |     2 |        1 | 1.67676\n",
      "    8 |     3 | 1687281990 | 1.67311\n",
      "    8 |     4 |        2 | 1.65637\n",
      "    8 |     5 | 1687281990 | 1.67876\n",
      "    8 |     6 |        3 | 1.66710\n",
      "    8 |     7 | 1687281991 | 1.66807\n",
      "    9 |     0 |        1 | 1.65676\n",
      "    9 |     1 | 1687281996 | 1.63240\n",
      "    9 |     2 |        2 | 1.66552\n",
      "    9 |     3 | 1687281997 | 1.65414\n",
      "    9 |     4 |        2 | 1.67516\n",
      "    9 |     5 | 1687281997 | 1.65183\n",
      "    9 |     6 |        3 | 1.66472\n",
      "    9 |     7 | 1687281998 | 1.65425\n",
      "   10 |     0 |        1 | 1.65594\n",
      "   10 |     1 | 1687282003 | 1.64559\n",
      "   10 |     2 |        2 | 1.63612\n",
      "   10 |     3 | 1687282004 | 1.65213\n",
      "   10 |     4 |        3 | 1.64316\n",
      "   10 |     5 | 1687282005 | 1.63982\n",
      "   10 |     6 |        4 | 1.64321\n",
      "   10 |     7 | 1687282006 | 1.63498\n",
      "   11 |     0 |        1 | 1.64333\n",
      "   11 |     1 | 1687282011 | 1.62929\n",
      "   11 |     2 |        2 | 1.62977\n",
      "   11 |     3 | 1687282011 | 1.64020\n",
      "   11 |     4 |        2 | 1.63088\n",
      "   11 |     5 | 1687282012 | 1.63329\n",
      "   11 |     6 |        3 | 1.64082\n",
      "   11 |     7 | 1687282013 | 1.62150\n",
      "   12 |     0 |        1 | 1.62777\n",
      "   12 |     1 | 1687282017 | 1.62640\n",
      "   12 |     2 |        2 | 1.62349\n",
      "   12 |     3 | 1687282018 | 1.62784\n",
      "   12 |     4 |        2 | 1.62519\n",
      "   12 |     5 | 1687282019 | 1.62345\n",
      "   12 |     6 |        3 | 1.61675\n",
      "   12 |     7 | 1687282020 | 1.60915\n",
      "   13 |     0 |        1 | 1.61524\n",
      "   13 |     1 | 1687282024 | 1.61746\n",
      "   13 |     2 |        2 | 1.61080\n",
      "   13 |     3 | 1687282025 | 1.62754\n",
      "   13 |     4 |        2 | 1.62290\n",
      "   13 |     5 | 1687282026 | 1.60392\n",
      "   13 |     6 |        3 | 1.60880\n",
      "   13 |     7 | 1687282027 | 1.60050\n",
      "   14 |     0 |        1 | 1.59384\n",
      "   14 |     1 | 1687282032 | 1.60628\n",
      "   14 |     2 |        2 | 1.61414\n",
      "   14 |     3 | 1687282032 | 1.60205\n",
      "   14 |     4 |        2 | 1.60817\n",
      "   14 |     5 | 1687282033 | 1.61530\n",
      "   14 |     6 |        3 | 1.59557\n",
      "   14 |     7 | 1687282034 | 1.60113\n",
      "   15 |     0 |        1 | 1.60790\n",
      "   15 |     1 | 1687282039 | 1.59096\n",
      "   15 |     2 |        2 | 1.59401\n",
      "   15 |     3 | 1687282040 | 1.60024\n",
      "   15 |     4 |        2 | 1.60328\n",
      "   15 |     5 | 1687282040 | 1.60468\n",
      "   15 |     6 |        3 | 1.59146\n",
      "   15 |     7 | 1687282041 | 1.58828\n",
      "   16 |     0 |        1 | 1.57847\n",
      "   16 |     1 | 1687282046 | 1.61044\n",
      "   16 |     2 |        2 | 1.58013\n",
      "   16 |     3 | 1687282047 | 1.58947\n",
      "   16 |     4 |        2 | 1.58445\n",
      "   16 |     5 | 1687282048 | 1.60045\n",
      "   16 |     6 |        3 | 1.59230\n",
      "   16 |     7 | 1687282048 | 1.59291\n",
      "   17 |     0 |        1 | 1.59725\n",
      "   17 |     1 | 1687282053 | 1.60197\n",
      "   17 |     2 |        1 | 1.58638\n",
      "   17 |     3 | 1687282054 | 1.58691\n",
      "   17 |     4 |        2 | 1.57950\n",
      "   17 |     5 | 1687282055 | 1.58075\n",
      "   17 |     6 |        3 | 1.57809\n",
      "   17 |     7 | 1687282055 | 1.56943\n",
      "   18 |     0 |        1 | 1.56994\n",
      "   18 |     1 | 1687282060 | 1.56873\n",
      "   18 |     2 |        2 | 1.57812\n",
      "   18 |     3 | 1687282061 | 1.56827\n",
      "   18 |     4 |        2 | 1.57827\n",
      "   18 |     5 | 1687282062 | 1.58693\n",
      "   18 |     6 |        3 | 1.57466\n",
      "   18 |     7 | 1687282062 | 1.58204\n",
      "   19 |     0 |        1 | 1.56131\n",
      "   19 |     1 | 1687282067 | 1.57721\n",
      "   19 |     2 |        2 | 1.58323\n",
      "   19 |     3 | 1687282068 | 1.57931\n",
      "   19 |     4 |        2 | 1.57619\n",
      "   19 |     5 | 1687282069 | 1.55502\n",
      "   19 |     6 |        3 | 1.56928\n",
      "   19 |     7 | 1687282070 | 1.55930\n",
      "   20 |     0 |        1 | 1.56166\n",
      "   20 |     1 | 1687282074 | 1.56350\n",
      "   20 |     2 |        2 | 1.56270\n",
      "   20 |     3 | 1687282075 | 1.55758\n",
      "   20 |     4 |        3 | 1.56408\n",
      "   20 |     5 | 1687282076 | 1.57446\n",
      "   20 |     6 |        3 | 1.56240\n",
      "   20 |     7 | 1687282077 | 1.56340\n",
      "   21 |     0 |        1 | 1.55033\n",
      "   21 |     1 | 1687282081 | 1.55591\n",
      "   21 |     2 |        2 | 1.54882\n",
      "   21 |     3 | 1687282082 | 1.54436\n",
      "   21 |     4 |        3 | 1.55209\n",
      "   21 |     5 | 1687282083 | 1.55362\n",
      "   21 |     6 |        3 | 1.56365\n",
      "   21 |     7 | 1687282084 | 1.54327\n",
      "   22 |     0 |        1 | 1.53805\n",
      "   22 |     1 | 1687282089 | 1.56372\n",
      "   22 |     2 |        2 | 1.53670\n",
      "   22 |     3 | 1687282089 | 1.54525\n",
      "   22 |     4 |        2 | 1.54269\n",
      "   22 |     5 | 1687282090 | 1.53280\n",
      "   22 |     6 |        3 | 1.54898\n",
      "   22 |     7 | 1687282091 | 1.54261\n",
      "   23 |     0 |        1 | 1.53524\n",
      "   23 |     1 | 1687282096 | 1.54561\n",
      "   23 |     2 |        2 | 1.53984\n",
      "   23 |     3 | 1687282096 | 1.52424\n",
      "   23 |     4 |        2 | 1.54351\n",
      "   23 |     5 | 1687282097 | 1.53652\n",
      "   23 |     6 |        3 | 1.53366\n",
      "   23 |     7 | 1687282098 | 1.53566\n"
     ]
    }
   ],
   "source": [
    "history = train(model, train_loader, criterion, opt, epochs=23)"
   ]
  },
  {
   "cell_type": "code",
   "execution_count": 64,
   "metadata": {
    "colab": {
     "base_uri": "https://localhost:8080/",
     "height": 450
    },
    "id": "hhaUcPuR8eGt",
    "outputId": "9e098f1f-cad8-4cd8-dde3-80d0e360b66e"
   },
   "outputs": [
    {
     "data": {
      "image/png": "[encoded data removed]",
      "text/plain": [
       "<Figure size 640x480 with 1 Axes>"
      ]
     },
     "metadata": {},
     "output_type": "display_data"
    }
   ],
   "source": [
    "training_steps = np.array([step for step, _ in history])\n",
    "loss = np.array([loss.item() for _, loss in history])\n",
    "\n",
    "fig, ax = plt.subplots()\n",
    "ax.plot(training_steps, loss)\n",
    "\n",
    "ax.set(xlabel='training_steps', ylabel='loss')\n",
    "ax.grid()\n",
    "plt.show()"
   ]
  },
  {
   "cell_type": "markdown",
   "metadata": {
    "id": "ZZjXbtJy8u0m"
   },
   "source": [
    "Let's evaulate again."
   ]
  },
  {
   "cell_type": "code",
   "execution_count": 65,
   "metadata": {
    "colab": {
     "base_uri": "https://localhost:8080/"
    },
    "id": "P5l_bUL-8wD9",
    "outputId": "bb539542-31d7-4c2a-ce67-6dcb9af4ca31"
   },
   "outputs": [
    {
     "name": "stdout",
     "output_type": "stream",
     "text": [
      "Accuracy of the network on 10000 test images: 52 %\n"
     ]
    },
    {
     "data": {
      "text/plain": [
       "52"
      ]
     },
     "execution_count": 65,
     "metadata": {},
     "output_type": "execute_result"
    }
   ],
   "source": [
    "evaluate(model, test_loader)"
   ]
  },
  {
   "cell_type": "code",
   "execution_count": null,
   "metadata": {
    "colab": {
     "base_uri": "https://localhost:8080/",
     "height": 452
    },
    "id": "v3qVCs458zbX",
    "outputId": "5580aa40-16ce-4727-bd91-74062c06fa64"
   },
   "outputs": [],
   "source": [
    "num = np.random.randint(low=0, high=len(train_ds))\n",
    "\n",
    "image, label = train_ds[num]\n",
    "\n",
    "imshow(image, label)"
   ]
  },
  {
   "cell_type": "code",
   "execution_count": null,
   "metadata": {
    "colab": {
     "base_uri": "https://localhost:8080/"
    },
    "id": "VUO9OOr880RV",
    "outputId": "ec9cda07-469f-47e4-9bef-ab095ba201e8"
   },
   "outputs": [
    {
     "name": "stdout",
     "output_type": "stream",
     "text": [
      "horse horse\n"
     ]
    }
   ],
   "source": [
    "print(make_prediction(model, images[num].to(device)), class_list[classes[num]])"
   ]
  },
  {
   "cell_type": "markdown",
   "metadata": {
    "id": "wLBuIJIDE4RR"
   },
   "source": [
    "Next, we're going to learn more about matrix algebra, starting with arrays and vectors."
   ]
  }
 ],
 "metadata": {
  "accelerator": "GPU",
  "colab": {
   "gpuType": "T4",
   "provenance": []
  },
  "gpuClass": "standard",
  "kernelspec": {
   "display_name": "Python 3 (ipykernel)",
   "language": "python",
   "name": "python3"
  },
  "language_info": {
   "codemirror_mode": {
    "name": "ipython",
    "version": 3
   },
   "file_extension": ".py",
   "mimetype": "text/x-python",
   "name": "python",
   "nbconvert_exporter": "python",
   "pygments_lexer": "ipython3",
   "version": "3.8.10"
  }
 },
 "nbformat": 4,
 "nbformat_minor": 1
}
