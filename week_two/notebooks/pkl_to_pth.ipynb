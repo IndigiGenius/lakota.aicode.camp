{
 "cells": [
  {
   "cell_type": "code",
   "execution_count": 8,
   "id": "61c933f4-3614-4a22-8f22-24054f46cd06",
   "metadata": {},
   "outputs": [],
   "source": [
    "import torch\n",
    "from fastai.learner import load_learner\n",
    "\n",
    "path_to_models = '/workspace/models/'\n",
    "path_to_pkl_model = '/workspace/models/PKL_MODEL_FILENAME.pkl'\n",
    "learn = load_learner(path_to_pkl_model)"
   ]
  },
  {
   "cell_type": "code",
   "execution_count": 9,
   "id": "113c9ca0-e78c-41d4-bb47-64ae01827b89",
   "metadata": {},
   "outputs": [],
   "source": [
    "torch.save(learner.model.state_dict(), path_to_models+'model_pkl_to_pth.pth')"
   ]
  }
 ],
 "metadata": {
  "kernelspec": {
   "display_name": "Python 3 (ipykernel)",
   "language": "python",
   "name": "python3"
  },
  "language_info": {
   "codemirror_mode": {
    "name": "ipython",
    "version": 3
   },
   "file_extension": ".py",
   "mimetype": "text/x-python",
   "name": "python",
   "nbconvert_exporter": "python",
   "pygments_lexer": "ipython3",
   "version": "3.8.10"
  }
 },
 "nbformat": 4,
 "nbformat_minor": 5
}
