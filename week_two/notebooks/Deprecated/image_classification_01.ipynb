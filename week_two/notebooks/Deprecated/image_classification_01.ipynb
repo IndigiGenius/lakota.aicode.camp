{
 "cells": [
  {
   "cell_type": "code",
   "execution_count": 1,
   "id": "51e53d3b",
   "metadata": {},
   "outputs": [
    {
     "name": "stderr",
     "output_type": "stream",
     "text": [
      "/opt/conda/lib/python3.8/site-packages/tqdm/auto.py:22: TqdmWarning: IProgress not found. Please update jupyter and ipywidgets. See https://ipywidgets.readthedocs.io/en/stable/user_install.html\n",
      "  from .autonotebook import tqdm as notebook_tqdm\n"
     ]
    }
   ],
   "source": [
    "import numpy as np\n",
    "\n",
    "import time\n",
    "import torch\n",
    "import torchvision\n",
    "\n",
    "import matplotlib.pyplot as plt\n",
    "import torch.nn.functional as F"
   ]
  },
  {
   "cell_type": "markdown",
   "id": "7641149e",
   "metadata": {},
   "source": [
    "# Image Classification\n",
    "\n",
    "## Introduction\n",
    "\n",
    "We're beginning our AI journey today! First, we're going to go through some examples of how AI/deep learning is used by people today. I would like to note that even though we're 10 years into what's been called the deep learning revolution, it's still not as widely used as it could be (in my opinion).\n",
    "\n",
    "## Applications\n",
    "\n",
    "### Agricultural\n",
    "\n",
    "John Deere, the tractor company, uses [deep learning](https://www.deere.com/en/news/all-news/see-spray-ultimate/) today! In fact, it uses object detection. One part of agriculture is the broad use of herbicide to kill weeds. The entire field is sprayed with it. John Deere developed the See & Spray system to reduce the amount of herbicide used. The system uses 36 cameras to identify weeds, which then become targets for herbicide spray. The cameras use object detection to differentiate weeds from the crop and to determine the location of the weeds. The system then uses that location to spray the weeds.\n",
    "\n",
    "### Entertainment\n",
    "\n",
    "We're all familiar with Netflix, Spotify, Pandora, etc. Streaming video and music services rely in part on deep learning to determine what shows, movies, and videos to recommend.\n",
    "\n",
    "### Webpages\n",
    "\n",
    "[Google has a method to speed up webpage loading.](https://blog.tensorflow.org/2021/05/speed-up-your-sites-with-web-page-prefetching-using-ml.html) To load a webpage, your browser sends a request to the server to download and display pictures on your browser. In areas with poor cellular or internet service, this can take a large amount of time. The method that Google recommends is to fetch the pictures that it thinks you're going to need ahead of time. In order to predict what pictures will be needed, you can use a machine learning model, which contains deep learning models.\n",
    "\n",
    "### Automatic Captioning\n",
    "\n",
    "Youtube uses [deep learning](https://ai.googleblog.com/2019/10/on-device-captioning-with-live-caption.html) to produce automatically produce captions for youtube videos.\n",
    "\n",
    "### Automatic Speech Recognition\n",
    "\n",
    "Digital assistants are becoming increasingly popular. Siri, OKGoogle, and Alexa are available on numerous devices. These systems use deep learning in several ways. Siri uses [deep learning](https://machinelearning.apple.com/research/hey-siri) to recognize its wake word \"Hey Siri\". Then it uses deep learning based ASR to create a transcription of your text in order to determine what you're asking Siri.\n",
    "\n",
    "### Machine Translation\n",
    "\n",
    "\n",
    "\n",
    "### Self-driving cars\n",
    "### Robotics\n",
    "### Object Detection"
   ]
  },
  {
   "cell_type": "markdown",
   "id": "7a496cbf",
   "metadata": {},
   "source": [
    "## Machine Learning Distilled\n",
    "\n",
    "Machine learning can be an incredibly complicated software engineering endeavor, but it can be boiled down to a key points:\n",
    "- data\n",
    "- model\n",
    "- training.\n",
    "\n",
    "You have data that you want to make some sort of prediction or classification with. Maybe you have transaction data and you want to determine which are fraudulent. Maybe you have audio data and you want to output a text transcription. How do we make these predictions? We need a model that transforms the data somehow. Then, how do we pick which model to use? Typically, we choose a model that can be updated based feedback from the data. We call this model training.\n",
    "\n",
    "So, the model takes in data and then updates the model based on the data.\n",
    "\n",
    "Let's look at an example of this.\n",
    "First, we'll create a model that has not been trained and show that it cannot recognize the input. Then we'll train it and show that it can now recognize inputs.\n",
    "You don't need to understand the code, you just need to know that we are getting data, creating a model, and training that model."
   ]
  },
  {
   "cell_type": "code",
   "execution_count": 2,
   "id": "1c94df95",
   "metadata": {},
   "outputs": [],
   "source": [
    "class_list = ('airplane', 'automobile', 'bird', 'cat', 'deer', 'dog', 'frog', 'horse', 'ship', 'truck')"
   ]
  },
  {
   "cell_type": "code",
   "execution_count": 3,
   "id": "a5340166",
   "metadata": {},
   "outputs": [
    {
     "name": "stdout",
     "output_type": "stream",
     "text": [
      "Files already downloaded and verified\n"
     ]
    }
   ],
   "source": [
    "normalize_ds = torchvision.datasets.CIFAR10(root='./data',\n",
    "                                            train=True,\n",
    "                                            download=True,\n",
    "                                            transform=torchvision.transforms.ToTensor(),\n",
    "                                            )\n",
    "normalize_dl = torch.utils.data.DataLoader(normalize_ds,\n",
    "                                           batch_size=len(normalize_ds),\n",
    "                                           shuffle=True,\n",
    "                                           num_workers=0)"
   ]
  },
  {
   "cell_type": "code",
   "execution_count": 4,
   "id": "f1a49f9b",
   "metadata": {},
   "outputs": [],
   "source": [
    "for data, _ in normalize_dl:\n",
    "    mean = torch.mean(data, (0, 2, 3))\n",
    "    std = torch.std(data, (0, 2, 3))"
   ]
  },
  {
   "cell_type": "code",
   "execution_count": 5,
   "id": "4b121d16",
   "metadata": {},
   "outputs": [],
   "source": [
    "transform = torchvision.transforms.Compose(\n",
    "    [torchvision.transforms.ToTensor(),\n",
    "     torchvision.transforms.Normalize(mean=mean, std=std),\n",
    "    ]\n",
    ")"
   ]
  },
  {
   "cell_type": "code",
   "execution_count": 6,
   "id": "d1b89ed6",
   "metadata": {},
   "outputs": [],
   "source": [
    "train_ds = torchvision.datasets.CIFAR10(root='./data', train=True, transform=transform)\n",
    "test_ds = torchvision.datasets.CIFAR10(root='./data', train=False, transform=transform)"
   ]
  },
  {
   "cell_type": "code",
   "execution_count": 7,
   "id": "aafe30d8",
   "metadata": {},
   "outputs": [],
   "source": [
    "train_loader = torch.utils.data.DataLoader(train_ds,\n",
    "                                          batch_size=len(train_ds),\n",
    "                                          shuffle=True,\n",
    "                                          num_workers=0,\n",
    "                                          pin_memory=False)\n",
    "test_loader = torch.utils.data.DataLoader(test_ds,\n",
    "                                          batch_size=len(test_ds),\n",
    "                                          shuffle=True,\n",
    "                                          num_workers=0,\n",
    "                                          pin_memory=False)"
   ]
  },
  {
   "cell_type": "code",
   "execution_count": 8,
   "id": "f31076ea",
   "metadata": {},
   "outputs": [],
   "source": [
    "class LeNet(torch.nn.Module):\n",
    "    \n",
    "    def __init__(self):\n",
    "        super().__init__()\n",
    "        \n",
    "        self.conv1 = torch.nn.Conv2d(in_channels=3,\n",
    "                                     out_channels=6,\n",
    "                                     kernel_size=5,\n",
    "                                     padding=2)\n",
    "        self.conv2 = torch.nn.Conv2d(in_channels=6,\n",
    "                                     out_channels=16,\n",
    "                                     kernel_size=5)\n",
    "        self.pool = torch.nn.AvgPool2d(kernel_size=2,\n",
    "                                       stride=2)\n",
    "        self.fc1 = torch.nn.Linear(in_features=576,\n",
    "                                   out_features=120)\n",
    "        self.fc2 = torch.nn.Linear(in_features=120,\n",
    "                                   out_features=84)\n",
    "        self.fc3 = torch.nn.Linear(in_features=84,\n",
    "                                   out_features=10)\n",
    "        self.activation = torch.tanh\n",
    "        \n",
    "    def forward(self, x):\n",
    "        x = self.conv1(x)\n",
    "        x = self.activation(x)\n",
    "        x = self.pool(x)\n",
    "        x = self.conv2(x)\n",
    "        x = self.activation(x)\n",
    "        x = self.pool(x)\n",
    "        x = torch.flatten(x, start_dim=1)\n",
    "        x = self.fc1(x)\n",
    "        x = self.activation(x)\n",
    "        x = self.fc2(x)\n",
    "        x = self.activation(x)\n",
    "        x = self.fc3(x)\n",
    "        x = self.activation(x)\n",
    "        return x"
   ]
  },
  {
   "cell_type": "code",
   "execution_count": 9,
   "id": "6f8c164a",
   "metadata": {},
   "outputs": [],
   "source": [
    "model = LeNet()"
   ]
  },
  {
   "cell_type": "code",
   "execution_count": 10,
   "id": "1926cd36",
   "metadata": {},
   "outputs": [],
   "source": [
    "def imshow(img, label=None, class_list=class_list):\n",
    "    # Pytorch has images in Channel x height x width, this converts to h x w x c\n",
    "    img = img.numpy().transpose((1, 2, 0))\n",
    "    mean = np.array([0.4914, 0.4822, 0.4465])\n",
    "    std = np.array([0.2470, 0.2435, 0.2616])\n",
    "    # undo the normalization\n",
    "    img = std * img + mean\n",
    "    # ensure that array is in the proper range to show the image.\n",
    "    img = np.clip(img, 0, 1)\n",
    "    plt.imshow(img)\n",
    "    if label is not None:\n",
    "        # label is assumed to be a (1, ) tensor\n",
    "        label = label.item()\n",
    "        label = class_list[label]\n",
    "        plt.title(label)\n",
    "    plt.pause(0.001)"
   ]
  },
  {
   "cell_type": "code",
   "execution_count": 11,
   "id": "d581f95c",
   "metadata": {},
   "outputs": [],
   "source": [
    "images, classes = next(iter(train_loader))"
   ]
  },
  {
   "cell_type": "code",
   "execution_count": 12,
   "id": "ae32452d",
   "metadata": {},
   "outputs": [
    {
     "data": {
      "text/plain": [
       "torch.Size([50000, 3, 32, 32])"
      ]
     },
     "execution_count": 12,
     "metadata": {},
     "output_type": "execute_result"
    }
   ],
   "source": [
    "images.shape"
   ]
  },
  {
   "cell_type": "code",
   "execution_count": 13,
   "id": "9b7edd77",
   "metadata": {
    "scrolled": false
   },
   "outputs": [
    {
     "data": {
      "image/png": "[encoded data removed]",
      "text/plain": [
       "<Figure size 432x288 with 1 Axes>"
      ]
     },
     "metadata": {
      "needs_background": "light"
     },
     "output_type": "display_data"
    }
   ],
   "source": [
    "num = 0\n",
    "imshow(images[num], classes[num])"
   ]
  },
  {
   "cell_type": "code",
   "execution_count": 14,
   "id": "47feb7fa",
   "metadata": {},
   "outputs": [],
   "source": [
    "def make_prediction(model, image, class_list=class_list):\n",
    "    # If shape is not \n",
    "    image = image.unsqueeze(0)\n",
    "    pred = model(image)\n",
    "    pred = torch.argmax(pred)\n",
    "    return class_list[pred]"
   ]
  },
  {
   "cell_type": "code",
   "execution_count": 15,
   "id": "7d99ade2",
   "metadata": {},
   "outputs": [
    {
     "data": {
      "text/plain": [
       "'deer'"
      ]
     },
     "execution_count": 15,
     "metadata": {},
     "output_type": "execute_result"
    }
   ],
   "source": [
    "make_prediction(model, images[num])"
   ]
  },
  {
   "cell_type": "markdown",
   "id": "faeb13da",
   "metadata": {},
   "source": [
    "We downloaded the training set, looked at an image, and found that our model makes incorrect predictions. We're going to change that by training."
   ]
  },
  {
   "cell_type": "code",
   "execution_count": 40,
   "id": "82ae530f",
   "metadata": {},
   "outputs": [],
   "source": [
    "def train(model, train_loader, criterion, opt, epochs=10):\n",
    "    history = []\n",
    "    device = torch.device('cuda:0' if torch.cuda.is_available() else 'cpu')\n",
    "    model.to(device)\n",
    "    \n",
    "    print(\"Epoch | Batch | Time(s) | Loss\")\n",
    "    print(\"------------------------------\")\n",
    "    \n",
    "    step = 0\n",
    "    \n",
    "    for epoch in range(epochs):\n",
    "        running_loss = 0.0\n",
    "        t = time.time()\n",
    "        \n",
    "        for i, (inputs, label) in enumerate(train_loader, 0):\n",
    "            inputs, label = inputs.to(device), label.to(device)\n",
    "            \n",
    "            opt.zero_grad(set_to_none=True)\n",
    "            \n",
    "            outputs = model(inputs)\n",
    "            loss = criterion(outputs, label)\n",
    "            \n",
    "            loss.backward()\n",
    "            opt.step()\n",
    "            \n",
    "            running_loss += loss.item()\n",
    "            step += 1\n",
    "            history.append((step, loss))\n",
    "            \n",
    "        t = time.time() - t\n",
    "        print(f\"{epoch + 1:5d} | {i:5d} | {int(t):8d} | {running_loss:.5f}\")\n",
    "        running_loss = 0\n",
    "    \n",
    "    return history"
   ]
  },
  {
   "cell_type": "code",
   "execution_count": 41,
   "id": "1807413d",
   "metadata": {},
   "outputs": [],
   "source": [
    "def evaluate(model, testloader):\n",
    "    model.eval()\n",
    "    correct = 0\n",
    "    total = 0\n",
    "    \n",
    "    with torch.no_grad():\n",
    "        for inputs, label in test_loader:\n",
    "            inputs, label = inputs.to(device), label.to(device)\n",
    "            outputs = model(inputs)\n",
    "            \n",
    "            _, predicted = torch.max(outputs.data, 1)\n",
    "            total += label.size(0)\n",
    "            correct += (predicted == label).sum().item()\n",
    "            \n",
    "    print(f'Accuracy of the network on 10000 test images: {100 * correct // total} %')\n",
    "    return 100 * correct // total"
   ]
  },
  {
   "cell_type": "code",
   "execution_count": 36,
   "id": "129463c2",
   "metadata": {},
   "outputs": [
    {
     "name": "stdout",
     "output_type": "stream",
     "text": [
      "cuda:0\n"
     ]
    }
   ],
   "source": [
    "device = torch.device('cuda:0' if torch.cuda.is_available() else 'cpu')\n",
    "print(device)\n",
    "model = model.to(device)\n",
    "\n",
    "criterion = torch.nn.CrossEntropyLoss()\n",
    "opt = torch.optim.SGD(model.parameters(), lr=1e-1, momentum=0.9)"
   ]
  },
  {
   "cell_type": "markdown",
   "id": "629456c1",
   "metadata": {},
   "source": [
    "Let's evaluate the model before training"
   ]
  },
  {
   "cell_type": "code",
   "execution_count": 37,
   "id": "94c700bf",
   "metadata": {},
   "outputs": [
    {
     "name": "stdout",
     "output_type": "stream",
     "text": [
      "Accuracy of the network on 10000 test images: 39 %\n"
     ]
    },
    {
     "data": {
      "text/plain": [
       "39"
      ]
     },
     "execution_count": 37,
     "metadata": {},
     "output_type": "execute_result"
    }
   ],
   "source": [
    "evaluate(model, test_loader)"
   ]
  },
  {
   "cell_type": "code",
   "execution_count": 45,
   "id": "b39d365e",
   "metadata": {},
   "outputs": [
    {
     "name": "stdout",
     "output_type": "stream",
     "text": [
      "Epoch | Batch | Time(s) | Loss\n",
      "------------------------------\n",
      "    1 |     0 |        8 | 1.52172\n",
      "    2 |     0 |        4 | 1.52094\n",
      "    3 |     0 |        3 | 1.52000\n",
      "    4 |     0 |        3 | 1.51917\n",
      "    5 |     0 |        3 | 1.51839\n",
      "    6 |     0 |        3 | 1.51751\n",
      "    7 |     0 |        3 | 1.51665\n",
      "    8 |     0 |        3 | 1.51586\n",
      "    9 |     0 |        3 | 1.51505\n",
      "   10 |     0 |        3 | 1.51417\n",
      "   11 |     0 |        3 | 1.51337\n",
      "   12 |     0 |        3 | 1.51257\n",
      "   13 |     0 |        3 | 1.51175\n",
      "   14 |     0 |        3 | 1.51091\n",
      "   15 |     0 |        3 | 1.51012\n",
      "   16 |     0 |        3 | 1.50932\n",
      "   17 |     0 |        3 | 1.50851\n",
      "   18 |     0 |        3 | 1.50769\n",
      "   19 |     0 |        3 | 1.50690\n",
      "   20 |     0 |        4 | 1.50612\n",
      "   21 |     0 |        3 | 1.50533\n",
      "   22 |     0 |        4 | 1.50453\n",
      "   23 |     0 |        3 | 1.50373\n",
      "   24 |     0 |        3 | 1.50295\n",
      "   25 |     0 |        4 | 1.50218\n",
      "   26 |     0 |        3 | 1.50140\n",
      "   27 |     0 |        3 | 1.50061\n",
      "   28 |     0 |        3 | 1.49983\n",
      "   29 |     0 |        3 | 1.49905\n",
      "   30 |     0 |        3 | 1.49829\n",
      "   31 |     0 |        3 | 1.49753\n",
      "   32 |     0 |        3 | 1.49676\n",
      "   33 |     0 |        3 | 1.49599\n",
      "   34 |     0 |        4 | 1.49523\n",
      "   35 |     0 |        3 | 1.49446\n",
      "   36 |     0 |        3 | 1.49370\n",
      "   37 |     0 |        4 | 1.49294\n",
      "   38 |     0 |        3 | 1.49219\n",
      "   39 |     0 |        4 | 1.49144\n",
      "   40 |     0 |        3 | 1.49069\n",
      "   41 |     0 |        3 | 1.48995\n",
      "   42 |     0 |        3 | 1.48921\n",
      "   43 |     0 |        3 | 1.48847\n",
      "   44 |     0 |        3 | 1.48773\n",
      "   45 |     0 |        3 | 1.48700\n",
      "   46 |     0 |        3 | 1.48627\n",
      "   47 |     0 |        3 | 1.48557\n",
      "   48 |     0 |        4 | 1.48489\n",
      "   49 |     0 |        3 | 1.48428\n",
      "   50 |     0 |        3 | 1.48379\n",
      "   51 |     0 |        3 | 1.48362\n",
      "   52 |     0 |        3 | 1.48398\n",
      "   53 |     0 |        3 | 1.48602\n",
      "   54 |     0 |        3 | 1.48915\n",
      "   55 |     0 |        4 | 1.49700\n",
      "   56 |     0 |        3 | 1.49650\n",
      "   57 |     0 |        3 | 1.49322\n",
      "   58 |     0 |        3 | 1.48110\n",
      "   59 |     0 |        4 | 1.47869\n",
      "   60 |     0 |        4 | 1.48522\n",
      "   61 |     0 |        3 | 1.48536\n",
      "   62 |     0 |        4 | 1.47964\n",
      "   63 |     0 |        3 | 1.47511\n",
      "   64 |     0 |        3 | 1.47832\n",
      "   65 |     0 |        4 | 1.48082\n",
      "   66 |     0 |        3 | 1.47492\n",
      "   67 |     0 |        4 | 1.47240\n",
      "   68 |     0 |        3 | 1.47497\n",
      "   69 |     0 |        3 | 1.47444\n",
      "   70 |     0 |        3 | 1.47096\n",
      "   71 |     0 |        3 | 1.46950\n",
      "   72 |     0 |        3 | 1.47100\n",
      "   73 |     0 |        3 | 1.47109\n",
      "   74 |     0 |        3 | 1.46801\n",
      "   75 |     0 |        3 | 1.46633\n",
      "   76 |     0 |        3 | 1.46700\n",
      "   77 |     0 |        3 | 1.46717\n",
      "   78 |     0 |        4 | 1.46581\n",
      "   79 |     0 |        3 | 1.46372\n",
      "   80 |     0 |        3 | 1.46279\n",
      "   81 |     0 |        4 | 1.46297\n",
      "   82 |     0 |        4 | 1.46291\n",
      "   83 |     0 |        3 | 1.46227\n",
      "   84 |     0 |        3 | 1.46075\n",
      "   85 |     0 |        4 | 1.45941\n",
      "   86 |     0 |        4 | 1.45849\n",
      "   87 |     0 |        4 | 1.45812\n",
      "   88 |     0 |        3 | 1.45798\n",
      "   89 |     0 |        4 | 1.45777\n",
      "   90 |     0 |        3 | 1.45748\n",
      "   91 |     0 |        4 | 1.45671\n",
      "   92 |     0 |        4 | 1.45595\n",
      "   93 |     0 |        3 | 1.45487\n",
      "   94 |     0 |        4 | 1.45395\n",
      "   95 |     0 |        4 | 1.45298\n",
      "   96 |     0 |        3 | 1.45215\n",
      "   97 |     0 |        4 | 1.45131\n",
      "   98 |     0 |        3 | 1.45057\n",
      "   99 |     0 |        3 | 1.44985\n",
      "  100 |     0 |        4 | 1.44921\n"
     ]
    }
   ],
   "source": [
    "history = train(model, train_loader, criterion, opt, epochs=100)"
   ]
  },
  {
   "cell_type": "markdown",
   "id": "7d83209e",
   "metadata": {},
   "source": [
    "We'll look at our training step vs loss curve and we'll evaluate the model:"
   ]
  },
  {
   "cell_type": "code",
   "execution_count": 46,
   "id": "60e5d555",
   "metadata": {},
   "outputs": [
    {
     "data": {
      "image/png": "[encoded data removed]",
      "text/plain": [
       "<Figure size 432x288 with 1 Axes>"
      ]
     },
     "metadata": {
      "needs_background": "light"
     },
     "output_type": "display_data"
    }
   ],
   "source": [
    "training_steps = np.array([step for step, _ in history])\n",
    "loss = np.array([loss.item() for _, loss in history])\n",
    "\n",
    "fig, ax = plt.subplots()\n",
    "ax.plot(training_steps, loss)\n",
    "\n",
    "ax.set(xlabel='training_steps', ylabel='loss')\n",
    "ax.grid()\n",
    "plt.show()"
   ]
  },
  {
   "cell_type": "code",
   "execution_count": 50,
   "id": "6ee3a03b",
   "metadata": {},
   "outputs": [
    {
     "name": "stdout",
     "output_type": "stream",
     "text": [
      "Accuracy of the network on 10000 test images: 55 %\n"
     ]
    },
    {
     "data": {
      "text/plain": [
       "55"
      ]
     },
     "execution_count": 50,
     "metadata": {},
     "output_type": "execute_result"
    }
   ],
   "source": [
    "evaluate(model, test_loader)"
   ]
  },
  {
   "cell_type": "code",
   "execution_count": 51,
   "id": "483c9659",
   "metadata": {},
   "outputs": [
    {
     "data": {
      "image/png": "[encoded data removed]",
      "text/plain": [
       "<Figure size 432x288 with 1 Axes>"
      ]
     },
     "metadata": {
      "needs_background": "light"
     },
     "output_type": "display_data"
    }
   ],
   "source": [
    "num = 9\n",
    "imshow(images[num], classes[num])"
   ]
  },
  {
   "cell_type": "code",
   "execution_count": 52,
   "id": "42213f4a",
   "metadata": {},
   "outputs": [
    {
     "name": "stdout",
     "output_type": "stream",
     "text": [
      "bird bird\n"
     ]
    }
   ],
   "source": [
    "print(make_prediction(model, images[9].to(device)), class_list[classes[num]])"
   ]
  },
  {
   "cell_type": "markdown",
   "id": "d982fbe7",
   "metadata": {},
   "source": [
    "Great! Now we're going to go into more detail on what we did!\n",
    "We're going to go into detail on the following datasets:\n",
    "- MNIST\n",
    "- E MNIST\n",
    "- CIFAR10\n",
    "- Fashion MNIST\n",
    "- CIFAR100\n",
    "- ImageNet\n",
    "Then we'll go into detail about model architectures:\n",
    "- LeNet\n",
    "- ResNet\n",
    "- Darknet\n",
    "- CSPDarknet\n",
    "Then we'll talk about how we actually train the models!\n",
    "If you noticed about in the code above, we wrote `torch.optim.SGD`. What the SGD here stands for is **stochastic gradient descent**. It may be an intimidating name, but we'll break it down in order to understand how it works. Almost all deep learning models are trained with some variant of this.\n",
    "\n",
    "We're going to reproduce one of the seminal works in deep learning: [Backpropagation Applied to Handwritten Zip Code Recognition](http://yann.lecun.com/exdb/publis/pdf/lecun-89e.pdf).\n",
    "We'll go through a handwritten digit dataset, the model architecutre the paper used, and the SGD training algorithm above!\n",
    "\n",
    "We'll do all of this in Pytorch!"
   ]
  },
  {
   "cell_type": "code",
   "execution_count": null,
   "id": "cd8dc2f7",
   "metadata": {},
   "outputs": [],
   "source": []
  }
 ],
 "metadata": {
  "kernelspec": {
   "display_name": "Python 3 (ipykernel)",
   "language": "python",
   "name": "python3"
  },
  "language_info": {
   "codemirror_mode": {
    "name": "ipython",
    "version": 3
   },
   "file_extension": ".py",
   "mimetype": "text/x-python",
   "name": "python",
   "nbconvert_exporter": "python",
   "pygments_lexer": "ipython3",
   "version": "3.8.13"
  }
 },
 "nbformat": 4,
 "nbformat_minor": 5
}
