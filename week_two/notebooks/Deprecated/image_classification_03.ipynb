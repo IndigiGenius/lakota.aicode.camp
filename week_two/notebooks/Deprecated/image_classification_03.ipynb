{
 "cells": [
  {
   "cell_type": "code",
   "execution_count": 34,
   "id": "446ae1f6",
   "metadata": {},
   "outputs": [],
   "source": [
    "%matplotlib inline"
   ]
  },
  {
   "cell_type": "code",
   "execution_count": 35,
   "id": "76f6892d",
   "metadata": {},
   "outputs": [],
   "source": [
    "import numpy as np\n",
    "\n",
    "import pprint\n",
    "import time\n",
    "import torch\n",
    "import torchvision\n",
    "\n",
    "import matplotlib.pyplot as plt\n",
    "import torch.nn.functional as F"
   ]
  },
  {
   "cell_type": "code",
   "execution_count": 36,
   "id": "838ef1da",
   "metadata": {},
   "outputs": [],
   "source": [
    "def show_image(data, class_list=None):\n",
    "    image, label = data\n",
    "    image = image.numpy().transpose((1, 2, 0))\n",
    "        \n",
    "    if class_list:\n",
    "        label = class_list[label]\n",
    "        \n",
    "    plt.title(label)\n",
    "    plt.imshow(image)"
   ]
  },
  {
   "cell_type": "code",
   "execution_count": 37,
   "id": "5a58d998",
   "metadata": {},
   "outputs": [],
   "source": [
    "mnist = torchvision.datasets.MNIST(root='./data',\n",
    "                                   transform=torchvision.transforms.ToTensor(),\n",
    "                                   download=True,\n",
    "                                   train=True)"
   ]
  },
  {
   "cell_type": "markdown",
   "id": "20fffac9",
   "metadata": {},
   "source": [
    "If you recall, our breakdown of machine learning was:\n",
    "- data\n",
    "- model\n",
    "- training.\n",
    "And we are trying to cover the paper [Backpropagation Applied to Handwritten Zip Code Recognition](http://yann.lecun.com/exdb/publis/pdf/lecun-89e.pdf). \n",
    "\n",
    "We just covered data, so we'll move onto learning about the model.\n",
    "\n",
    "A neural network model has several basic components:\n",
    "- neural network layer;\n",
    "- activation function;\n",
    "- loss function.\n",
    "We will cover all of these, beginning with the neural network layers.\n",
    "But first, we'll have to make a short digression.\n",
    "\n",
    "The original LeNet model took in a $16 \\times 16$ image and its output was a 10 dimensional vector.\n",
    "So, if we input an image of a 5 into the model:"
   ]
  },
  {
   "cell_type": "code",
   "execution_count": 38,
   "id": "ceaa74fb",
   "metadata": {},
   "outputs": [
    {
     "data": {
      "image/png": "[encoded data removed]",
      "text/plain": [
       "<Figure size 432x288 with 1 Axes>"
      ]
     },
     "metadata": {
      "needs_background": "light"
     },
     "output_type": "display_data"
    }
   ],
   "source": [
    "show_image(mnist[0])"
   ]
  },
  {
   "cell_type": "markdown",
   "id": "01dd9f52",
   "metadata": {},
   "source": [
    "Then the model should output a vector that is close to this one:\n",
    "$$ [0, 0, 0, 0, 0, 1, 0, 0, 0, 0] $$\n",
    "\n",
    "The above vector is an example of one-hot encoding.\n",
    "The idea is that if we have $C$ classes, then we want a $C$ dimensional vector that has $0$s in everything, except the class we want to predict. This will be a one.\n",
    "\n",
    "To explain this more, suppose that we want to predict one of the four letters $A, B, C, D$.\n",
    "Then we could one-hot encode it as:\n",
    "$$ A \\rightarrow [1, 0, 0, 0]$$\n",
    "$$ B \\rightarrow [0, 1, 0, 0]$$\n",
    "$$ C \\rightarrow [0, 0, 1, 0]$$\n",
    "$$ D \\rightarrow [0, 0, 0, 1]$$\n",
    "\n",
    "We don't have to have this correspondence.\n",
    "We could have another one, such as:\n",
    "$$ D \\rightarrow [1, 0, 0, 0]$$\n",
    "$$ A \\rightarrow [0, 1, 0, 0]$$\n",
    "$$ C \\rightarrow [0, 0, 1, 0]$$\n",
    "$$ B \\rightarrow [0, 0, 0, 1]$$\n",
    "\n",
    "The imporant thing is that once we decide on this correspondence it needs to be fixed.\n",
    "One data structure that can help with this is the `dict` class:"
   ]
  },
  {
   "cell_type": "code",
   "execution_count": 41,
   "id": "650f77af",
   "metadata": {},
   "outputs": [
    {
     "data": {
      "text/plain": [
       "{'A': array([1, 0, 0, 0]),\n",
       " 'B': array([0, 1, 0, 0]),\n",
       " 'C': array([0, 0, 1, 0]),\n",
       " 'D': array([0, 0, 0, 1])}"
      ]
     },
     "execution_count": 41,
     "metadata": {},
     "output_type": "execute_result"
    }
   ],
   "source": [
    "class_dict = {'A': np.array([1, 0, 0, 0]),\n",
    "              'B': np.array([0, 1, 0, 0]),\n",
    "              'C': np.array([0, 0, 1, 0]),\n",
    "              'D': np.array([0, 0, 0, 1])}\n",
    "\n",
    "class_dict"
   ]
  },
  {
   "cell_type": "markdown",
   "id": "2e74c907",
   "metadata": {},
   "source": [
    "How would we make this into a function?\n",
    "We want to take in classes and output a correspondence between the classes and the one-hot encoding.\n",
    "\n",
    "- What do you think a good name would be?\n",
    "- What should the inputs be?\n",
    "- What should the ouptuts be?\n",
    "\n",
    "We're going to work on this question together right now."
   ]
  },
  {
   "cell_type": "markdown",
   "id": "bfb2771c",
   "metadata": {},
   "source": [
    "def one_hot():\n",
    "    pass"
   ]
  },
  {
   "cell_type": "markdown",
   "id": "739f4bd2",
   "metadata": {},
   "source": [
    "Or the too clever way:"
   ]
  },
  {
   "cell_type": "code",
   "execution_count": 48,
   "id": "c5d12cde",
   "metadata": {},
   "outputs": [],
   "source": [
    "def one_hot(classes):\n",
    "    num_classes = len(classes)\n",
    "    ident = np.eye(num_classes)\n",
    "\n",
    "    class_dict = {classes[i]: ident[i] for i in range(num_classes)}\n",
    "\n",
    "    return class_dict"
   ]
  },
  {
   "cell_type": "code",
   "execution_count": 49,
   "id": "72770971",
   "metadata": {},
   "outputs": [
    {
     "data": {
      "text/plain": [
       "{'A': array([1., 0., 0., 0.]),\n",
       " 'B': array([0., 1., 0., 0.]),\n",
       " 'C': array([0., 0., 1., 0.]),\n",
       " 'D': array([0., 0., 0., 1.])}"
      ]
     },
     "execution_count": 49,
     "metadata": {},
     "output_type": "execute_result"
    }
   ],
   "source": [
    "one_hot(['A', 'B', 'C', 'D'])"
   ]
  },
  {
   "cell_type": "markdown",
   "id": "7df092a0",
   "metadata": {},
   "source": [
    "Back to the model.\n",
    "\n",
    "We want the LeNet model to output a 10-dimensional vector, because there are 10 classes we want to predict: the 10 digits.\n",
    "We'll go into more detail about this later when we talk about loss functions and training.\n",
    "\n",
    "The first thing we input into our model is an image converted to an $28 \\times 28$ array of numbers!\n",
    "This is sometimes called the **input layer**.\n",
    "\n",
    "After we input the image, the next layer is called a **convolutional layer**.\n",
    "The convolutional layer as a neural network layer was developed by Kunihiko Fukushima.\n",
    "He developed it for his neural network based handwriting recognition model called the **neocognitron**.\n",
    "The convolutional layer consists of several convolutional kernels that operate on the image.\n",
    "Let's go through an example.\n",
    "We'll take a $3 \\times 3$ kernel and have it operate on a $5 \\times 5$ image.\n",
    "\n",
    "Our $3 \\times 3$ kernel will be:\n",
    "$$\n",
    "\\begin{pmatrix}\n",
    "-1 & 0 & 1 \\\\\n",
    "-1 & 0 & 1 \\\\\n",
    "-1 & 0 & 1 \\\\\n",
    "\\end{pmatrix}\n",
    "$$\n",
    "and we'll work on the $5 \\times 5$ matrix:\n",
    "$$\n",
    "\\begin{pmatrix}\n",
    "4 & 4 & 2 & 4 & 4 \\\\\n",
    "5 & 3 & 4 & 0 & 3 \\\\\n",
    "1 & 0 & 2 & 3 & 0 \\\\\n",
    "5 & 4 & 2 & 4 & 5 \\\\\n",
    "0 & 0 & 4 & 3 & 2 \\\\\n",
    "\\end{pmatrix}\n",
    "$$\n",
    "\n",
    "The $3 \\times 3$ kernel is one of the Prewitt operator, used for edge detection.\n",
    "Did you notice something about what happened to the size of the $5 \\times 5$ matrix after we did a convolution on it with $3 \\times 3$ kernel?\n",
    "The height and width both dropped by 2.\n",
    "\n",
    "If we used\n",
    "$$\n",
    "\\begin{pmatrix}\n",
    "-1 & 0 & 1 \\\\\n",
    "-1 & 0 & 1 \\\\\n",
    "-1 & 0 & 1 \\\\\n",
    "\\end{pmatrix}\n",
    "$$\n",
    "and\n",
    "$$\n",
    "\\begin{pmatrix}\n",
    "-1 & -1 & -1 \\\\\n",
    " 0 &  0 &  0 \\\\\n",
    " 1 &  1 &  1 \\\\\n",
    "\\end{pmatrix}\n",
    "$$\n",
    "as our convolutional kernels and we put in a $1 \\times 28 \\times 28$ MNIST image, we would get out a $2 \\times 26 \\times 26$ tensor.\n",
    "If we wanted to keep the same height and width, 28, then we can do something called padding.\n",
    "Padding is just adding different values to the edge of our input.\n",
    "\n",
    "Pytorch has a couple ways to do this padding operation, but the primary way we'll deal with it is as a parameter in our convolutional layer."
   ]
  },
  {
   "cell_type": "code",
   "execution_count": 72,
   "id": "28abad09",
   "metadata": {},
   "outputs": [
    {
     "data": {
      "text/plain": [
       "torch.Size([1, 30, 30])"
      ]
     },
     "execution_count": 72,
     "metadata": {},
     "output_type": "execute_result"
    }
   ],
   "source": [
    "image, _ = mnist[0]\n",
    "\n",
    "# We choose 1. as the value below, because it's easier to see in the image that we padded it.\n",
    "padded_image = F.pad(image, pad=(1, 1, 1, 1), value=1.)\n",
    "padded_image.shape"
   ]
  },
  {
   "cell_type": "code",
   "execution_count": 73,
   "id": "28e1b8cc",
   "metadata": {},
   "outputs": [
    {
     "data": {
      "image/png": "[encoded data removed]",
      "text/plain": [
       "<Figure size 432x288 with 1 Axes>"
      ]
     },
     "metadata": {
      "needs_background": "light"
     },
     "output_type": "display_data"
    }
   ],
   "source": [
    "show_image((padded_image, 5))"
   ]
  },
  {
   "cell_type": "code",
   "execution_count": 67,
   "id": "ae16da18",
   "metadata": {},
   "outputs": [
    {
     "data": {
      "image/png": "[encoded data removed]",
      "text/plain": [
       "<Figure size 432x288 with 1 Axes>"
      ]
     },
     "metadata": {
      "needs_background": "light"
     },
     "output_type": "display_data"
    }
   ],
   "source": [
    "show_image(mnist[0])"
   ]
  },
  {
   "cell_type": "markdown",
   "id": "4c65e2fc",
   "metadata": {},
   "source": [
    "Let's look closer at our the convolutional layer in Pytorch\n",
    "\n",
    "`torch.nn.Conv2d(in_channels,\n",
    "                 out_channels,\n",
    "                 kernel_size,\n",
    "                 stride,\n",
    "                 padding,\n",
    "                 bias)`\n",
    "                 \n",
    "Let's go through some of the parameters:\n",
    "- `in_channels`: this is the number of channels in our input. So, if we input a (3, 224, 224) tensor, we would set the value of this to 3.\n",
    "- `out_channels`: this is the number of channels we want to ouptut. If we want to have 6 channels out, we would set this to 6.\n",
    "- `kernel_size`: this is the size of the kernel; above we had a $3 \\times 3$ kernel, so this would be set to 3.\n",
    "- `stride`: this is how many element to skip over; above we had a stride of 1.\n",
    "- `padding`: we talked about this above.\n",
    "- `bias`: this would be a tensor the same shape as our output; this would be added to the output before its sent to the next layer.\n",
    "\n",
    "Let's look at an example!"
   ]
  },
  {
   "cell_type": "code",
   "execution_count": 85,
   "id": "3b5fb624",
   "metadata": {},
   "outputs": [],
   "source": [
    "conv_layer = torch.nn.Conv2d(1, 6, 3, stride=1, padding=1, bias=False)"
   ]
  },
  {
   "cell_type": "code",
   "execution_count": 87,
   "id": "b4308824",
   "metadata": {},
   "outputs": [
    {
     "data": {
      "text/plain": [
       "torch.Size([6, 28, 28])"
      ]
     },
     "execution_count": 87,
     "metadata": {},
     "output_type": "execute_result"
    }
   ],
   "source": [
    "conv_layer(image).shape"
   ]
  },
  {
   "cell_type": "markdown",
   "id": "bfa468a0",
   "metadata": {},
   "source": [
    "So, we have the first layer down.\n",
    "The next layer is what is called a pooling layer.\n",
    "There are typically two types of these layers: max pooling and average pooling.\n",
    "The purpose of these is to reduce the input size to the next layer in order to reduce the parameter size of the next layer.\n",
    "\n",
    "Let's talk about both max pooling and average pooling.\n",
    "For max pooling, our kernel just chooses the largest element in the kernel.\n",
    "With these operations, you should think of the kernel as a sliding window.\n",
    "Let's look at an example of this.\n",
    "We'll look at a $2\\times 2$ and $3 \\times 3$ kernel on the matrix:\n",
    "$$\n",
    "\\begin{pmatrix}\n",
    "4 & 4 & 2 & 4 & 4 \\\\\n",
    "5 & 3 & 4 & 0 & 3 \\\\\n",
    "1 & 0 & 2 & 3 & 0 \\\\\n",
    "5 & 4 & 2 & 4 & 5 \\\\\n",
    "0 & 0 & 4 & 3 & 2 \\\\\n",
    "\\end{pmatrix}\n",
    "$$\n",
    "\n",
    "If we perform max pooling with a $2 \\times 2$ kernel, we get:\n",
    "$$\n",
    "\\begin{pmatrix}\n",
    "5 & 4 & 4 & 4 \\\\\n",
    "5 & 4 & 4 & 3 \\\\\n",
    "5 & 4 & 4 & 5 \\\\\n",
    "5 & 4 & 4 & 5\n",
    "\\end{pmatrix}\n",
    "$$\n",
    "and with a $3 \\times 3$ kernel, we get:\n",
    "$$\n",
    "\\begin{pmatrix}\n",
    "5 & 4 & 4 \\\\\n",
    "5 & 4 & 4 \\\\\n",
    "5 & 4 & 5\n",
    "\\end{pmatrix}\n",
    "$$\n",
    "\n",
    "I know this is tedious.\n",
    "This is why we invented and used computers!\n",
    "Now, let's look at the average pooling case on the same matrix.\n",
    "With a $2 \\times 2$ kernel we get:\n",
    "$$\n",
    "\\begin{pmatrix}\n",
    "   4 & 3.25 & 2.5  & 2.75 \\\\\n",
    "2.25 & 2.75 & 2.25 & 1.5  \\\\\n",
    "2.5  & 2    & 2.75 & 3    \\\\\n",
    "2.25 & 2.5  & 3.25 & 3.5\n",
    "\\end{pmatrix}\n",
    "$$\n",
    "with a $3 \\times 3$ kernel we get:\n",
    "$$\n",
    "\\begin{pmatrix}\n",
    "2.7778 & 2.4444 & 2.4444 \\\\\n",
    "2.8889 & 2.4444 & 2.5556 \\\\\n",
    "2.0000 & 2.4444 & 2.7778\n",
    "\\end{pmatrix}\n",
    "$$"
   ]
  },
  {
   "cell_type": "code",
   "execution_count": 109,
   "id": "a5f28834",
   "metadata": {},
   "outputs": [],
   "source": [
    "x = torch.tensor([[\n",
    "    [4, 4, 2, 4, 4],\n",
    "    [5, 3, 4, 0, 3],\n",
    "    [1, 0, 2, 3, 0],\n",
    "    [5, 4, 2, 4, 5],\n",
    "    [0, 0, 4, 3, 2]\n",
    "]], dtype=torch.float)"
   ]
  },
  {
   "cell_type": "code",
   "execution_count": 110,
   "id": "ed56429e",
   "metadata": {},
   "outputs": [
    {
     "data": {
      "text/plain": [
       "tensor([[[2.7778, 2.4444, 2.4444],\n",
       "         [2.8889, 2.4444, 2.5556],\n",
       "         [2.0000, 2.4444, 2.7778]]])"
      ]
     },
     "execution_count": 110,
     "metadata": {},
     "output_type": "execute_result"
    }
   ],
   "source": [
    "torch.nn.AvgPool2d(kernel_size=(3, 3), stride=1)(x)"
   ]
  },
  {
   "cell_type": "markdown",
   "id": "ed344757",
   "metadata": {},
   "source": [
    "That was much easier to calculate, right?\n",
    "\n",
    "For our model, we're going to use the average pooling layer.\n",
    "Let's look at the Pytorch layer:\n",
    "`torch.nn.AvgPool2d(kernel_size,\n",
    "                    stride,\n",
    "                    padding)`\n",
    "\n",
    "- `kernel_size`: this is just the size of our sliding window.\n",
    "- `stride`: this is exactly the same as in the `torch.nn.Conv2d` case; it just tells us how many steps to take.\n",
    "- `padding`: this is exactly the same as in the `torch.nn.Conv2d` case; again, it tells us how many zeroes to pad our tensor with; this allows us to control the size of the output.\n",
    "\n",
    "`torch.nn.AvgPool2d` can be written as a kernel, let's spend a few minutes trying to figure out out how!"
   ]
  },
  {
   "cell_type": "code",
   "execution_count": 127,
   "id": "ae90d853",
   "metadata": {},
   "outputs": [],
   "source": [
    "weight = 1 / 9 * torch.ones((1, 1, 3, 3))"
   ]
  },
  {
   "cell_type": "code",
   "execution_count": 128,
   "id": "e81cf408",
   "metadata": {},
   "outputs": [
    {
     "data": {
      "text/plain": [
       "tensor([[[2.7778, 2.4444, 2.4444],\n",
       "         [2.8889, 2.4444, 2.5556],\n",
       "         [2.0000, 2.4444, 2.7778]]])"
      ]
     },
     "execution_count": 128,
     "metadata": {},
     "output_type": "execute_result"
    }
   ],
   "source": [
    "F.conv2d(x, weight=weight, stride=1)"
   ]
  },
  {
   "cell_type": "markdown",
   "id": "3f1ae2b3",
   "metadata": {},
   "source": [
    "Since we want a specific layer, we called `F.conv2d` as opposed to `torch.nn.Conv2d`.\n",
    "As you see, we can do a convolution to get the same result as average pooling!"
   ]
  },
  {
   "cell_type": "markdown",
   "id": "b0a5367b",
   "metadata": {},
   "source": [
    "The next layer is another convolutional layer.\n",
    "What we're going to do is not exactly what was done in the LeNet paper, but it's a close enough approximation.\n",
    "The next layer is\n",
    "\n",
    "`torch.nn.Conv2d(in_channels=6,\n",
    "                 out_channels=16,\n",
    "                 kernel_size=5,\n",
    "                 stride=1,\n",
    "                 padding=0)`\n",
    "                 \n",
    "We should note that we can omit putting in `padding=0` and `stride=1`, because they are both default values.\n",
    "\n",
    "This convolutional layer is immediately followed by the same type of pooling layer as before:\n",
    "\n",
    "`torch.nn.AvgPool2d(kernel_size=2,\n",
    "                    stride=2,\n",
    "                    padding=0)`\n",
    "                    \n",
    "As before, we can omit `padding=0`, because it is a default value.\n",
    "\n",
    "If we input a tensor of shape (1, 28, 28), that represents a black and white image, then the output at this point is a tensor of shape (16, 5, 5).\n",
    "\n",
    "We want to input this into what is called a **linear** layer or a **fully connected** layer.\n",
    "The input to this layer has to be a tensor of shape $(m, )$, also known as an $m$-dimensional vector.\n",
    "We need an $(n, m)$ matrix that we denote by $\\textbf{W}$.\n",
    "With neural networks, this is called a **weight** matrix.\n",
    "We also have an optional parameter called the **bias**.\n",
    "This is a vector of shame $(n, )$, because it's added after the multiplication.\n",
    "Remember that the output of an $(n, m)$ matrix multiplied by a $(m, )$ vector is a $(n, )$ vector.\n",
    "\n",
    "The problem we have is our tensor is the wrong shape, if we try to input it into the linear layer, we'll get a shape error.\n",
    "What we need to do is change the shape of this tensor somehow.\n",
    "What shape should it have if we change it?\n",
    "\n",
    "The function we want is available within Pytorch and it's called `torch.flatten`."
   ]
  },
  {
   "cell_type": "code",
   "execution_count": 129,
   "id": "088d95d3",
   "metadata": {},
   "outputs": [],
   "source": [
    "x = torch.randn(3, 4, 5)"
   ]
  },
  {
   "cell_type": "code",
   "execution_count": 134,
   "id": "0354b9fc",
   "metadata": {},
   "outputs": [
    {
     "data": {
      "text/plain": [
       "torch.Size([60])"
      ]
     },
     "execution_count": 134,
     "metadata": {},
     "output_type": "execute_result"
    }
   ],
   "source": [
    "torch.flatten(x).shape"
   ]
  },
  {
   "cell_type": "markdown",
   "id": "7e18eba1",
   "metadata": {},
   "source": [
    "As we saw, our input was a tensor of shape (3, 4, 5) and it's output was a tensor of shape (60,).\n",
    "What is $3 \\times 4 \\times 5$?\n",
    "\n",
    "`torch.flatten` has three parameters:\n",
    "- `input`: this is just the tensor that we want to flatten.\n",
    "- `start_dim`: this is the start of the dimension we want to flatten.\n",
    "- `end_dim`: this is the end of the dimensions we want to flatten.\n",
    "\n",
    "If we don't input anything for `start_dim` and `end_dim`, they default to flattening everything.\n",
    "\n",
    "Let's look at another example:"
   ]
  },
  {
   "cell_type": "code",
   "execution_count": 136,
   "id": "a4ae537b",
   "metadata": {},
   "outputs": [],
   "source": [
    "x = torch.randn(3, 4, 5, 6, 7, 8)"
   ]
  },
  {
   "cell_type": "markdown",
   "id": "4bfe2048",
   "metadata": {},
   "source": [
    "If we call\n",
    "\n",
    "`torch.flatten(x, start_dim=1, end_dim=3)`\n",
    "\n",
    "then what will the shame of $x$ be?\n",
    "Let's take a minute to guess before we input it into the next cell"
   ]
  },
  {
   "cell_type": "code",
   "execution_count": null,
   "id": "97060143",
   "metadata": {},
   "outputs": [],
   "source": [
    "torch.flatten(x, start_dim=1, end_dim=3).shape"
   ]
  },
  {
   "cell_type": "markdown",
   "id": "4152fe43",
   "metadata": {},
   "source": [
    "Back to our LeNet model.\n",
    "We want to flatten everything in our (16, 5, 5)-tensor.\n",
    "This gives us a tensor of shape (400, ).\n",
    "\n",
    "Recall that we talked about the stride of a tensor last Friday.\n",
    "So, `torch.flatten` works by changing the stride of the tensor!\n",
    "\n",
    "So, we have a (400, )-tensor going into our fully connnected layer.\n",
    "For the paper, they wanted an (84, )-tensor as output.\n",
    "The way we would create this layer is\n",
    "\n",
    "`torch.nn.Linear(400, 84)`\n",
    "\n",
    "This is a simpler layer than other ones.\n",
    "We only have three parameters for it:\n",
    "\n",
    "`torch.nn.Linear(in_features, out_features, bias)`\n",
    "\n",
    "- `in_features`: This is the size of the tensor/vector coming in.\n",
    "- `out_features`: This is what size we want to the tensor/vector to come out as.\n",
    "- `bias`: If we want to add a vector to it at the end, we would include this one.\n",
    "\n",
    "The default of `bias` is `True`, so we typically don't include it.\n",
    "\n",
    "So, we have an (84, )-tensor as our input now and at this point we want to make a prediction.\n",
    "We have 10 classes, so we want 10 outputs.\n",
    "So, our last layer is\n",
    "\n",
    "`torch.nn.Linear(84, 10)`.\n",
    "\n",
    "We said there were some basic components to neural networks:\n",
    "- neural network layer;\n",
    "- activation function;\n",
    "- loss function.\n",
    "\n",
    "We only covered neural network layer so far.\n",
    "We're going to cover activation function next.\n",
    "\n",
    "Because of the way matrix multiplication works if we have two layers and no activation function between, it's the same as just having one neural network layer.\n",
    "This is why we need an activation function.\n",
    "The activation function that the LeNet model used was what's called a **hyperbolic tangent** function.\n",
    "This function is defined as\n",
    "$$\n",
    "\\operatorname{tanh}(x) = \\frac{e^{x} - e^{-x}}{e^{x} + e^{-x}} = \\frac{e^{2x} - 1}{e^{2x} + 1}\n",
    "$$\n",
    "and here is a picture of it:"
   ]
  },
  {
   "cell_type": "code",
   "execution_count": 139,
   "id": "e3668abb",
   "metadata": {},
   "outputs": [
    {
     "data": {
      "image/png": "[encoded data removed]",
      "text/plain": [
       "<Figure size 432x288 with 1 Axes>"
      ]
     },
     "metadata": {
      "needs_background": "light"
     },
     "output_type": "display_data"
    }
   ],
   "source": [
    "x = np.arange(-5.0, 5.0, 0.01)\n",
    "y = np.tanh(x)\n",
    "\n",
    "fig, ax = plt.subplots()\n",
    "ax.plot(x, y)\n",
    "\n",
    "ax.grid()\n",
    "plt.show()"
   ]
  },
  {
   "cell_type": "markdown",
   "id": "1f447058",
   "metadata": {},
   "source": [
    "Activation functions act on tensors point-wise.\n",
    "So, if we have\n",
    "$$\n",
    "\\textbf{X} = \n",
    "\\begin{pmatrix}\n",
    "1 & 3 & 4 \\\\\n",
    "-4 & 0 & -1 \\\\\n",
    "\\end{pmatrix}\n",
    "$$\n",
    "the ouput of $\\operatorname{tanh}(\\textbf{X})$ is \n",
    "$$\n",
    "\\operatorname{tanh}(\\textbf{X}) =\n",
    "\\begin{pmatrix}\n",
    "\\operatorname{tanh}(1)  & \\operatorname{tanh}(3) & \\operatorname{tanh}(4) \\\\\n",
    "\\operatorname{tanh}(-4) & \\operatorname{tanh}(0) & \\operatorname{tanh}(-1) \\\\\n",
    "\\end{pmatrix}\n",
    "$$\n",
    "\n",
    "So, we put `torch.tanh` between each layer.\n",
    "\n",
    "Finally, we need to cover the loss function.\n",
    "In the LeNet paper, they used what is called **mean squared error**.\n",
    "Suppose that\n",
    "$$\n",
    "\\widehat{\\textbf{y}} = (\\widehat{y_{1}}, \\ldots, \\widehat{y_{n}})\n",
    "$$\n",
    "is our prediction and\n",
    "$$\n",
    "\\textbf{y} = (y_{1}, \\ldots, y_{n})\n",
    "$$\n",
    "is our label, then the mean squared error is defined as\n",
    "$$\n",
    "\\operatorname{MSE}(\\widehat{\\textbf{y}}, \\textbf{y}) =\n",
    "\\sqrt{(y_{1} - \\widehat{y}_{1})^{2} + \\cdots + (y_{n} - \\widehat{y}_{n})^{2}}\n",
    "$$\n",
    "\n",
    "Let's take a minute to see if we can implement this!"
   ]
  },
  {
   "cell_type": "code",
   "execution_count": 140,
   "id": "f3fa34b8",
   "metadata": {},
   "outputs": [],
   "source": [
    "def MSE(pred, label):\n",
    "    raise NotImplementedError"
   ]
  },
  {
   "cell_type": "markdown",
   "id": "d1ec67f0",
   "metadata": {},
   "source": [
    "I will warn you that this isn't the best loss function to use for our purposes.\n",
    "The reason we're using it here is because it was used in the original LeNet paper.\n",
    "We will go over a better one later.\n",
    "\n",
    "Now we have to put it all together!\n",
    "There are several ways to do this, but we'll primarily be doing the `class` based method.\n",
    "\n",
    "All of our models will be subclasses of the `torch.nn.Module` class.\n",
    "I'll create a single layer neural network model to show how it works:"
   ]
  },
  {
   "cell_type": "code",
   "execution_count": 187,
   "id": "67032d43",
   "metadata": {},
   "outputs": [],
   "source": [
    "class FirstModel(torch.nn.Module):\n",
    "    \n",
    "    def __init__(self, input_size=28 * 28, num_classes=10):\n",
    "        super().__init__()\n",
    "        self.lin_layer = torch.nn.Linear(input_size, num_classes)\n",
    "        \n",
    "    def forward(self, x):\n",
    "        x = torch.flatten(x, start_dim=1)\n",
    "        x = self.lin_layer(x)\n",
    "        return torch.nn.LogSoftmax(dim=-1)(x)"
   ]
  },
  {
   "cell_type": "code",
   "execution_count": 188,
   "id": "d4d31e90",
   "metadata": {},
   "outputs": [],
   "source": [
    "transforms = torchvision.transforms.Compose(\n",
    "    [torchvision.transforms.ToTensor(),\n",
    "     torchvision.transforms.Normalize(mean=torch.tensor([0.1307]), std=torch.tensor([0.3081]))\n",
    "    ])"
   ]
  },
  {
   "cell_type": "code",
   "execution_count": 189,
   "id": "71af6086",
   "metadata": {},
   "outputs": [],
   "source": [
    "train_ds = torchvision.datasets.MNIST(root='./data',\n",
    "                                      train=True,\n",
    "                                      download=True,\n",
    "                                      transform=transforms)\n",
    "\n",
    "test_ds = torchvision.datasets.MNIST(root='./data',\n",
    "                                     train=False,\n",
    "                                     download=True,\n",
    "                                     transform=transforms)"
   ]
  },
  {
   "cell_type": "code",
   "execution_count": 190,
   "id": "0ea9849f",
   "metadata": {},
   "outputs": [],
   "source": [
    "train_dl = torch.utils.data.DataLoader(train_ds,\n",
    "                                       batch_size=len(train_ds),\n",
    "                                       shuffle=True,\n",
    "                                       num_workers=4)\n",
    "test_dl = torch.utils.data.DataLoader(test_ds,\n",
    "                                      batch_size=len(test_ds),\n",
    "                                      shuffle=False,\n",
    "                                      num_workers=4)"
   ]
  },
  {
   "cell_type": "code",
   "execution_count": 191,
   "id": "945bc2f4",
   "metadata": {},
   "outputs": [],
   "source": [
    "model = FirstModel()\n",
    "criterion = torch.nn.NLLLoss()\n",
    "opt = torch.optim.SGD(model.parameters(), lr=1e-3, momentum=0.9)"
   ]
  },
  {
   "cell_type": "code",
   "execution_count": 192,
   "id": "fcacc6f6",
   "metadata": {},
   "outputs": [
    {
     "data": {
      "text/plain": [
       "FirstModel(\n",
       "  (lin_layer): Linear(in_features=784, out_features=10, bias=True)\n",
       ")"
      ]
     },
     "execution_count": 192,
     "metadata": {},
     "output_type": "execute_result"
    }
   ],
   "source": [
    "device = torch.device('cuda:0' if torch.cuda.is_available() else 'cpu')\n",
    "model.to(device)"
   ]
  },
  {
   "cell_type": "code",
   "execution_count": 193,
   "id": "afba80eb",
   "metadata": {},
   "outputs": [
    {
     "name": "stderr",
     "output_type": "stream",
     "text": [
      "Exception ignored in: <function _MultiProcessingDataLoaderIter.__del__ at 0x7f98ee5f0b80>\n",
      "Traceback (most recent call last):\n",
      "  File \"/opt/conda/lib/python3.8/site-packages/torch/utils/data/dataloader.py\", line 1359, in __del__\n",
      "    self._shutdown_workers()\n",
      "  File \"/opt/conda/lib/python3.8/site-packages/torch/utils/data/dataloader.py\", line 1342, in _shutdown_workers\n",
      "    if w.is_alive():\n",
      "  File \"/opt/conda/lib/python3.8/multiprocessing/process.py\", line 160, in is_alive\n",
      "    assert self._parent_pid == os.getpid(), 'can only test a child process'\n",
      "AssertionError: can only test a child process\n"
     ]
    },
    {
     "name": "stdout",
     "output_type": "stream",
     "text": [
      "Finished 1 epoch.\n"
     ]
    },
    {
     "name": "stderr",
     "output_type": "stream",
     "text": [
      "Exception ignored in: <function _MultiProcessingDataLoaderIter.__del__ at 0x7f98ee5f0b80>\n",
      "Traceback (most recent call last):\n",
      "  File \"/opt/conda/lib/python3.8/site-packages/torch/utils/data/dataloader.py\", line 1359, in __del__\n",
      "    self._shutdown_workers()\n",
      "  File \"/opt/conda/lib/python3.8/site-packages/torch/utils/data/dataloader.py\", line 1342, in _shutdown_workers\n",
      "    if w.is_alive():\n",
      "  File \"/opt/conda/lib/python3.8/multiprocessing/process.py\", line 160, in is_alive\n",
      "    assert self._parent_pid == os.getpid(), 'can only test a child process'\n",
      "AssertionError: can only test a child process\n"
     ]
    },
    {
     "name": "stdout",
     "output_type": "stream",
     "text": [
      "Finished 2 epoch.\n"
     ]
    },
    {
     "name": "stderr",
     "output_type": "stream",
     "text": [
      "Exception ignored in: <function _MultiProcessingDataLoaderIter.__del__ at 0x7f98ee5f0b80>\n",
      "Traceback (most recent call last):\n",
      "  File \"/opt/conda/lib/python3.8/site-packages/torch/utils/data/dataloader.py\", line 1359, in __del__\n",
      "    self._shutdown_workers()\n",
      "  File \"/opt/conda/lib/python3.8/site-packages/torch/utils/data/dataloader.py\", line 1342, in _shutdown_workers\n",
      "    if w.is_alive():\n",
      "  File \"/opt/conda/lib/python3.8/multiprocessing/process.py\", line 160, in is_alive\n",
      "    assert self._parent_pid == os.getpid(), 'can only test a child process'\n",
      "AssertionError: can only test a child process\n"
     ]
    },
    {
     "name": "stdout",
     "output_type": "stream",
     "text": [
      "Finished 3 epoch.\n"
     ]
    },
    {
     "name": "stderr",
     "output_type": "stream",
     "text": [
      "Exception ignored in: <function _MultiProcessingDataLoaderIter.__del__ at 0x7f98ee5f0b80>\n",
      "Traceback (most recent call last):\n",
      "  File \"/opt/conda/lib/python3.8/site-packages/torch/utils/data/dataloader.py\", line 1359, in __del__\n",
      "    self._shutdown_workers()\n",
      "  File \"/opt/conda/lib/python3.8/site-packages/torch/utils/data/dataloader.py\", line 1342, in _shutdown_workers\n",
      "    if w.is_alive():\n",
      "  File \"/opt/conda/lib/python3.8/multiprocessing/process.py\", line 160, in is_alive\n",
      "    assert self._parent_pid == os.getpid(), 'can only test a child process'\n",
      "AssertionError: can only test a child process\n"
     ]
    },
    {
     "name": "stdout",
     "output_type": "stream",
     "text": [
      "Finished 4 epoch.\n"
     ]
    },
    {
     "name": "stderr",
     "output_type": "stream",
     "text": [
      "Exception ignored in: <function _MultiProcessingDataLoaderIter.__del__ at 0x7f98ee5f0b80>\n",
      "Traceback (most recent call last):\n",
      "  File \"/opt/conda/lib/python3.8/site-packages/torch/utils/data/dataloader.py\", line 1359, in __del__\n",
      "    self._shutdown_workers()\n",
      "  File \"/opt/conda/lib/python3.8/site-packages/torch/utils/data/dataloader.py\", line 1342, in _shutdown_workers\n",
      "    if w.is_alive():\n",
      "  File \"/opt/conda/lib/python3.8/multiprocessing/process.py\", line 160, in is_alive\n",
      "    assert self._parent_pid == os.getpid(), 'can only test a child process'\n",
      "AssertionError: can only test a child process\n"
     ]
    },
    {
     "name": "stdout",
     "output_type": "stream",
     "text": [
      "Finished 5 epoch.\n"
     ]
    },
    {
     "name": "stderr",
     "output_type": "stream",
     "text": [
      "Exception ignored in: <function _MultiProcessingDataLoaderIter.__del__ at 0x7f98ee5f0b80>\n",
      "Traceback (most recent call last):\n",
      "  File \"/opt/conda/lib/python3.8/site-packages/torch/utils/data/dataloader.py\", line 1359, in __del__\n",
      "    self._shutdown_workers()\n",
      "  File \"/opt/conda/lib/python3.8/site-packages/torch/utils/data/dataloader.py\", line 1342, in _shutdown_workers\n",
      "    if w.is_alive():\n",
      "  File \"/opt/conda/lib/python3.8/multiprocessing/process.py\", line 160, in is_alive\n",
      "    assert self._parent_pid == os.getpid(), 'can only test a child process'\n",
      "AssertionError: can only test a child process\n"
     ]
    },
    {
     "name": "stdout",
     "output_type": "stream",
     "text": [
      "Finished 6 epoch.\n"
     ]
    },
    {
     "name": "stderr",
     "output_type": "stream",
     "text": [
      "Exception ignored in: <function _MultiProcessingDataLoaderIter.__del__ at 0x7f98ee5f0b80>\n",
      "Traceback (most recent call last):\n",
      "  File \"/opt/conda/lib/python3.8/site-packages/torch/utils/data/dataloader.py\", line 1359, in __del__\n",
      "    self._shutdown_workers()\n",
      "  File \"/opt/conda/lib/python3.8/site-packages/torch/utils/data/dataloader.py\", line 1342, in _shutdown_workers\n",
      "    if w.is_alive():\n",
      "  File \"/opt/conda/lib/python3.8/multiprocessing/process.py\", line 160, in is_alive\n",
      "    assert self._parent_pid == os.getpid(), 'can only test a child process'\n",
      "AssertionError: can only test a child process\n"
     ]
    },
    {
     "name": "stdout",
     "output_type": "stream",
     "text": [
      "Finished 7 epoch.\n"
     ]
    },
    {
     "name": "stderr",
     "output_type": "stream",
     "text": [
      "Exception ignored in: <function _MultiProcessingDataLoaderIter.__del__ at 0x7f98ee5f0b80>\n",
      "Traceback (most recent call last):\n",
      "  File \"/opt/conda/lib/python3.8/site-packages/torch/utils/data/dataloader.py\", line 1359, in __del__\n",
      "    self._shutdown_workers()\n",
      "  File \"/opt/conda/lib/python3.8/site-packages/torch/utils/data/dataloader.py\", line 1342, in _shutdown_workers\n",
      "    if w.is_alive():\n",
      "  File \"/opt/conda/lib/python3.8/multiprocessing/process.py\", line 160, in is_alive\n",
      "    assert self._parent_pid == os.getpid(), 'can only test a child process'\n",
      "AssertionError: can only test a child process\n"
     ]
    },
    {
     "name": "stdout",
     "output_type": "stream",
     "text": [
      "Finished 8 epoch.\n"
     ]
    },
    {
     "name": "stderr",
     "output_type": "stream",
     "text": [
      "Exception ignored in: <function _MultiProcessingDataLoaderIter.__del__ at 0x7f98ee5f0b80>\n",
      "Traceback (most recent call last):\n",
      "  File \"/opt/conda/lib/python3.8/site-packages/torch/utils/data/dataloader.py\", line 1359, in __del__\n",
      "    self._shutdown_workers()\n",
      "  File \"/opt/conda/lib/python3.8/site-packages/torch/utils/data/dataloader.py\", line 1342, in _shutdown_workers\n",
      "    if w.is_alive():\n",
      "  File \"/opt/conda/lib/python3.8/multiprocessing/process.py\", line 160, in is_alive\n",
      "    assert self._parent_pid == os.getpid(), 'can only test a child process'\n",
      "AssertionError: can only test a child process\n"
     ]
    },
    {
     "name": "stdout",
     "output_type": "stream",
     "text": [
      "Finished 9 epoch.\n"
     ]
    },
    {
     "name": "stderr",
     "output_type": "stream",
     "text": [
      "Exception ignored in: <function _MultiProcessingDataLoaderIter.__del__ at 0x7f98ee5f0b80>\n",
      "Traceback (most recent call last):\n",
      "  File \"/opt/conda/lib/python3.8/site-packages/torch/utils/data/dataloader.py\", line 1359, in __del__\n",
      "    self._shutdown_workers()\n",
      "  File \"/opt/conda/lib/python3.8/site-packages/torch/utils/data/dataloader.py\", line 1342, in _shutdown_workers\n",
      "    if w.is_alive():\n",
      "  File \"/opt/conda/lib/python3.8/multiprocessing/process.py\", line 160, in is_alive\n",
      "    assert self._parent_pid == os.getpid(), 'can only test a child process'\n",
      "AssertionError: can only test a child process\n"
     ]
    },
    {
     "name": "stdout",
     "output_type": "stream",
     "text": [
      "Finished 10 epoch.\n"
     ]
    },
    {
     "name": "stderr",
     "output_type": "stream",
     "text": [
      "Exception ignored in: <function _MultiProcessingDataLoaderIter.__del__ at 0x7f98ee5f0b80>\n",
      "Traceback (most recent call last):\n",
      "  File \"/opt/conda/lib/python3.8/site-packages/torch/utils/data/dataloader.py\", line 1359, in __del__\n",
      "    self._shutdown_workers()\n",
      "  File \"/opt/conda/lib/python3.8/site-packages/torch/utils/data/dataloader.py\", line 1342, in _shutdown_workers\n",
      "    if w.is_alive():\n",
      "  File \"/opt/conda/lib/python3.8/multiprocessing/process.py\", line 160, in is_alive\n",
      "    assert self._parent_pid == os.getpid(), 'can only test a child process'\n",
      "AssertionError: can only test a child process\n"
     ]
    },
    {
     "name": "stdout",
     "output_type": "stream",
     "text": [
      "Finished 11 epoch.\n"
     ]
    },
    {
     "name": "stderr",
     "output_type": "stream",
     "text": [
      "Exception ignored in: <function _MultiProcessingDataLoaderIter.__del__ at 0x7f98ee5f0b80>\n",
      "Traceback (most recent call last):\n",
      "  File \"/opt/conda/lib/python3.8/site-packages/torch/utils/data/dataloader.py\", line 1359, in __del__\n",
      "    self._shutdown_workers()\n",
      "  File \"/opt/conda/lib/python3.8/site-packages/torch/utils/data/dataloader.py\", line 1342, in _shutdown_workers\n",
      "    if w.is_alive():\n",
      "  File \"/opt/conda/lib/python3.8/multiprocessing/process.py\", line 160, in is_alive\n",
      "    assert self._parent_pid == os.getpid(), 'can only test a child process'\n",
      "AssertionError: can only test a child process\n"
     ]
    },
    {
     "name": "stdout",
     "output_type": "stream",
     "text": [
      "Finished 12 epoch.\n"
     ]
    },
    {
     "name": "stderr",
     "output_type": "stream",
     "text": [
      "Exception ignored in: <function _MultiProcessingDataLoaderIter.__del__ at 0x7f98ee5f0b80>\n",
      "Traceback (most recent call last):\n",
      "  File \"/opt/conda/lib/python3.8/site-packages/torch/utils/data/dataloader.py\", line 1359, in __del__\n",
      "    self._shutdown_workers()\n",
      "  File \"/opt/conda/lib/python3.8/site-packages/torch/utils/data/dataloader.py\", line 1342, in _shutdown_workers\n",
      "    if w.is_alive():\n",
      "  File \"/opt/conda/lib/python3.8/multiprocessing/process.py\", line 160, in is_alive\n",
      "    assert self._parent_pid == os.getpid(), 'can only test a child process'\n",
      "AssertionError: can only test a child process\n"
     ]
    },
    {
     "name": "stdout",
     "output_type": "stream",
     "text": [
      "Finished 13 epoch.\n"
     ]
    },
    {
     "name": "stderr",
     "output_type": "stream",
     "text": [
      "Exception ignored in: <function _MultiProcessingDataLoaderIter.__del__ at 0x7f98ee5f0b80>\n",
      "Traceback (most recent call last):\n",
      "  File \"/opt/conda/lib/python3.8/site-packages/torch/utils/data/dataloader.py\", line 1359, in __del__\n",
      "    self._shutdown_workers()\n",
      "  File \"/opt/conda/lib/python3.8/site-packages/torch/utils/data/dataloader.py\", line 1342, in _shutdown_workers\n",
      "    if w.is_alive():\n",
      "  File \"/opt/conda/lib/python3.8/multiprocessing/process.py\", line 160, in is_alive\n",
      "    assert self._parent_pid == os.getpid(), 'can only test a child process'\n",
      "AssertionError: can only test a child process\n"
     ]
    },
    {
     "name": "stdout",
     "output_type": "stream",
     "text": [
      "Finished 14 epoch.\n"
     ]
    },
    {
     "name": "stderr",
     "output_type": "stream",
     "text": [
      "Exception ignored in: <function _MultiProcessingDataLoaderIter.__del__ at 0x7f98ee5f0b80>\n",
      "Traceback (most recent call last):\n",
      "  File \"/opt/conda/lib/python3.8/site-packages/torch/utils/data/dataloader.py\", line 1359, in __del__\n",
      "    self._shutdown_workers()\n",
      "  File \"/opt/conda/lib/python3.8/site-packages/torch/utils/data/dataloader.py\", line 1342, in _shutdown_workers\n",
      "    if w.is_alive():\n",
      "  File \"/opt/conda/lib/python3.8/multiprocessing/process.py\", line 160, in is_alive\n",
      "    assert self._parent_pid == os.getpid(), 'can only test a child process'\n",
      "AssertionError: can only test a child process\n"
     ]
    },
    {
     "name": "stdout",
     "output_type": "stream",
     "text": [
      "Finished 15 epoch.\n"
     ]
    },
    {
     "name": "stderr",
     "output_type": "stream",
     "text": [
      "Exception ignored in: <function _MultiProcessingDataLoaderIter.__del__ at 0x7f98ee5f0b80>\n",
      "Traceback (most recent call last):\n",
      "  File \"/opt/conda/lib/python3.8/site-packages/torch/utils/data/dataloader.py\", line 1359, in __del__\n",
      "    self._shutdown_workers()\n",
      "  File \"/opt/conda/lib/python3.8/site-packages/torch/utils/data/dataloader.py\", line 1342, in _shutdown_workers\n",
      "    if w.is_alive():\n",
      "  File \"/opt/conda/lib/python3.8/multiprocessing/process.py\", line 160, in is_alive\n",
      "    assert self._parent_pid == os.getpid(), 'can only test a child process'\n",
      "AssertionError: can only test a child process\n"
     ]
    },
    {
     "name": "stdout",
     "output_type": "stream",
     "text": [
      "Finished 16 epoch.\n"
     ]
    },
    {
     "name": "stderr",
     "output_type": "stream",
     "text": [
      "Exception ignored in: <function _MultiProcessingDataLoaderIter.__del__ at 0x7f98ee5f0b80>\n",
      "Traceback (most recent call last):\n",
      "  File \"/opt/conda/lib/python3.8/site-packages/torch/utils/data/dataloader.py\", line 1359, in __del__\n",
      "    self._shutdown_workers()\n",
      "  File \"/opt/conda/lib/python3.8/site-packages/torch/utils/data/dataloader.py\", line 1342, in _shutdown_workers\n",
      "    if w.is_alive():\n",
      "  File \"/opt/conda/lib/python3.8/multiprocessing/process.py\", line 160, in is_alive\n",
      "    assert self._parent_pid == os.getpid(), 'can only test a child process'\n",
      "AssertionError: can only test a child process\n"
     ]
    },
    {
     "name": "stdout",
     "output_type": "stream",
     "text": [
      "Finished 17 epoch.\n"
     ]
    },
    {
     "name": "stderr",
     "output_type": "stream",
     "text": [
      "Exception ignored in: <function _MultiProcessingDataLoaderIter.__del__ at 0x7f98ee5f0b80>\n",
      "Traceback (most recent call last):\n",
      "  File \"/opt/conda/lib/python3.8/site-packages/torch/utils/data/dataloader.py\", line 1359, in __del__\n",
      "    self._shutdown_workers()\n",
      "  File \"/opt/conda/lib/python3.8/site-packages/torch/utils/data/dataloader.py\", line 1342, in _shutdown_workers\n",
      "    if w.is_alive():\n",
      "  File \"/opt/conda/lib/python3.8/multiprocessing/process.py\", line 160, in is_alive\n",
      "    assert self._parent_pid == os.getpid(), 'can only test a child process'\n",
      "AssertionError: can only test a child process\n"
     ]
    },
    {
     "name": "stdout",
     "output_type": "stream",
     "text": [
      "Finished 18 epoch.\n"
     ]
    },
    {
     "name": "stderr",
     "output_type": "stream",
     "text": [
      "Exception ignored in: <function _MultiProcessingDataLoaderIter.__del__ at 0x7f98ee5f0b80>\n",
      "Traceback (most recent call last):\n",
      "  File \"/opt/conda/lib/python3.8/site-packages/torch/utils/data/dataloader.py\", line 1359, in __del__\n",
      "    self._shutdown_workers()\n",
      "  File \"/opt/conda/lib/python3.8/site-packages/torch/utils/data/dataloader.py\", line 1342, in _shutdown_workers\n",
      "    if w.is_alive():\n",
      "  File \"/opt/conda/lib/python3.8/multiprocessing/process.py\", line 160, in is_alive\n",
      "    assert self._parent_pid == os.getpid(), 'can only test a child process'\n",
      "AssertionError: can only test a child process\n"
     ]
    },
    {
     "name": "stdout",
     "output_type": "stream",
     "text": [
      "Finished 19 epoch.\n"
     ]
    },
    {
     "name": "stderr",
     "output_type": "stream",
     "text": [
      "Exception ignored in: <function _MultiProcessingDataLoaderIter.__del__ at 0x7f98ee5f0b80>\n",
      "Traceback (most recent call last):\n",
      "  File \"/opt/conda/lib/python3.8/site-packages/torch/utils/data/dataloader.py\", line 1359, in __del__\n",
      "    self._shutdown_workers()\n",
      "  File \"/opt/conda/lib/python3.8/site-packages/torch/utils/data/dataloader.py\", line 1342, in _shutdown_workers\n",
      "    if w.is_alive():\n",
      "  File \"/opt/conda/lib/python3.8/multiprocessing/process.py\", line 160, in is_alive\n",
      "    assert self._parent_pid == os.getpid(), 'can only test a child process'\n",
      "AssertionError: can only test a child process\n"
     ]
    },
    {
     "name": "stdout",
     "output_type": "stream",
     "text": [
      "Finished 20 epoch.\n"
     ]
    },
    {
     "name": "stderr",
     "output_type": "stream",
     "text": [
      "Exception ignored in: <function _MultiProcessingDataLoaderIter.__del__ at 0x7f98ee5f0b80>\n",
      "Traceback (most recent call last):\n",
      "  File \"/opt/conda/lib/python3.8/site-packages/torch/utils/data/dataloader.py\", line 1359, in __del__\n",
      "    self._shutdown_workers()\n",
      "  File \"/opt/conda/lib/python3.8/site-packages/torch/utils/data/dataloader.py\", line 1342, in _shutdown_workers\n",
      "    if w.is_alive():\n",
      "  File \"/opt/conda/lib/python3.8/multiprocessing/process.py\", line 160, in is_alive\n",
      "    assert self._parent_pid == os.getpid(), 'can only test a child process'\n",
      "AssertionError: can only test a child process\n"
     ]
    },
    {
     "name": "stdout",
     "output_type": "stream",
     "text": [
      "Finished 21 epoch.\n"
     ]
    },
    {
     "name": "stderr",
     "output_type": "stream",
     "text": [
      "Exception ignored in: <function _MultiProcessingDataLoaderIter.__del__ at 0x7f98ee5f0b80>\n",
      "Traceback (most recent call last):\n",
      "  File \"/opt/conda/lib/python3.8/site-packages/torch/utils/data/dataloader.py\", line 1359, in __del__\n",
      "    self._shutdown_workers()\n",
      "  File \"/opt/conda/lib/python3.8/site-packages/torch/utils/data/dataloader.py\", line 1342, in _shutdown_workers\n",
      "    if w.is_alive():\n",
      "  File \"/opt/conda/lib/python3.8/multiprocessing/process.py\", line 160, in is_alive\n",
      "    assert self._parent_pid == os.getpid(), 'can only test a child process'\n",
      "AssertionError: can only test a child process\n"
     ]
    },
    {
     "name": "stdout",
     "output_type": "stream",
     "text": [
      "Finished 22 epoch.\n"
     ]
    },
    {
     "name": "stderr",
     "output_type": "stream",
     "text": [
      "Exception ignored in: <function _MultiProcessingDataLoaderIter.__del__ at 0x7f98ee5f0b80>\n",
      "Traceback (most recent call last):\n",
      "  File \"/opt/conda/lib/python3.8/site-packages/torch/utils/data/dataloader.py\", line 1359, in __del__\n",
      "    self._shutdown_workers()\n",
      "  File \"/opt/conda/lib/python3.8/site-packages/torch/utils/data/dataloader.py\", line 1342, in _shutdown_workers\n",
      "    if w.is_alive():\n",
      "  File \"/opt/conda/lib/python3.8/multiprocessing/process.py\", line 160, in is_alive\n",
      "    assert self._parent_pid == os.getpid(), 'can only test a child process'\n",
      "AssertionError: can only test a child process\n"
     ]
    },
    {
     "name": "stdout",
     "output_type": "stream",
     "text": [
      "Finished 23 epoch.\n"
     ]
    }
   ],
   "source": [
    "for epoch in range(23):\n",
    "    for inputs, label in train_dl:\n",
    "        inputs, label = inputs.to(device), label.to(device)\n",
    "        \n",
    "        opt.zero_grad(set_to_none=True)\n",
    "        out = model(inputs)\n",
    "        loss = criterion(out, label)\n",
    "        loss.backward()\n",
    "        opt.step()\n",
    "    print(f\"Finished epoch {epoch + 1}.\")"
   ]
  },
  {
   "cell_type": "code",
   "execution_count": 194,
   "id": "daa752e2",
   "metadata": {},
   "outputs": [],
   "source": [
    "def evaluate(model, test_loader):\n",
    "    model.eval()\n",
    "    correct = 0\n",
    "    total = 0\n",
    "    \n",
    "    with torch.no_grad():\n",
    "        for inputs, label in test_loader:\n",
    "            inputs, label = inputs.to(device), label.to(device)\n",
    "            outputs = model(inputs)\n",
    "            \n",
    "            _, predicted = torch.max(outputs.data, 1)\n",
    "            total += label.size(0)\n",
    "            correct += (predicted == label).sum().item()\n",
    "            \n",
    "    print(f'Accuracy of the network on 10000 test images: {100 * correct // total} %')\n",
    "    return 100 * correct // total"
   ]
  },
  {
   "cell_type": "code",
   "execution_count": 195,
   "id": "181aeac1",
   "metadata": {},
   "outputs": [
    {
     "name": "stdout",
     "output_type": "stream",
     "text": [
      "Accuracy of the network on 10000 test images: 67 %\n"
     ]
    },
    {
     "data": {
      "text/plain": [
       "67"
      ]
     },
     "execution_count": 195,
     "metadata": {},
     "output_type": "execute_result"
    }
   ],
   "source": [
    "evaluate(model, test_dl)"
   ]
  },
  {
   "cell_type": "markdown",
   "id": "a76b576b",
   "metadata": {},
   "source": [
    "Now, you're going to implement the LeNet model yourself!\n",
    "We'll have the boiler plate, but you'll have to implement `__init__` and `__forward__` methods yourself.\n",
    "I will put the information about the layers here\n",
    "\n",
    "- Convolutional layer\n",
    "    - in channels: 1\n",
    "    - out channels: 6\n",
    "    - kernel size: 5\n",
    "    - padding: 2\n",
    "- Average Pooling\n",
    "    - kernel size: 2\n",
    "    - stride: 2\n",
    "- Convolutional Layer\n",
    "    - in channels: 6\n",
    "    - out channels: 16\n",
    "    - kernel size: 5\n",
    "- Average Pooling\n",
    "    - kernel size: 2\n",
    "    - stride: 2\n",
    "- Flatten\n",
    "- Linear Layer\n",
    "    - in features: 400\n",
    "    - out features: 120\n",
    "- Linear Layer\n",
    "    - in features: 120\n",
    "    - out features: 84\n",
    "- Linear Layer\n",
    "    - in features: 84\n",
    "    - out features: 10\n",
    "- Activation: `torch.tanh`"
   ]
  },
  {
   "cell_type": "code",
   "execution_count": 197,
   "id": "585cfde6",
   "metadata": {},
   "outputs": [],
   "source": [
    "class LeNet(torch.nn.Module):\n",
    "    \n",
    "    def __init__(self):\n",
    "        super().__init__()\n",
    "        raise NotImplementedError\n",
    "        \n",
    "    def forward(self, x):\n",
    "        raise NotImplementedError"
   ]
  },
  {
   "cell_type": "code",
   "execution_count": 198,
   "id": "b786eb6d",
   "metadata": {},
   "outputs": [
    {
     "ename": "NotImplementedError",
     "evalue": "",
     "output_type": "error",
     "traceback": [
      "\u001b[0;31m---------------------------------------------------------------------------\u001b[0m",
      "\u001b[0;31mNotImplementedError\u001b[0m                       Traceback (most recent call last)",
      "Input \u001b[0;32mIn [198]\u001b[0m, in \u001b[0;36m<cell line: 1>\u001b[0;34m()\u001b[0m\n\u001b[0;32m----> 1\u001b[0m \u001b[43mLeNet\u001b[49m\u001b[43m(\u001b[49m\u001b[43m)\u001b[49m\n",
      "Input \u001b[0;32mIn [197]\u001b[0m, in \u001b[0;36mLeNet.__init__\u001b[0;34m(self)\u001b[0m\n\u001b[1;32m      3\u001b[0m \u001b[38;5;28;01mdef\u001b[39;00m \u001b[38;5;21m__init__\u001b[39m(\u001b[38;5;28mself\u001b[39m):\n\u001b[1;32m      4\u001b[0m     \u001b[38;5;28msuper\u001b[39m()\u001b[38;5;241m.\u001b[39m\u001b[38;5;21m__init__\u001b[39m()\n\u001b[0;32m----> 5\u001b[0m     \u001b[38;5;28;01mraise\u001b[39;00m \u001b[38;5;167;01mNotImplementedError\u001b[39;00m\n",
      "\u001b[0;31mNotImplementedError\u001b[0m: "
     ]
    }
   ],
   "source": [
    "def train(model, train_dl, test_dl, epochs=23, evaluate=True):\n",
    "    criterion = torch.nn.MSELoss()\n",
    "    opt = torch.optim.SGD(model.parameters(), lr=1e-3, momentum=0.9)\n",
    "    device = torch.device('cuda:0' if torch.cuda.is_available() else 'cpu')\n",
    "    model.to(device)\n",
    "    \n",
    "    for epoch in range(epochs):\n",
    "        for inputs, label in train_dl:\n",
    "            inputs, label = inputs.to(device), label.to(device)\n",
    "\n",
    "            opt.zero_grad(set_to_none=True)\n",
    "            out = model(inputs)\n",
    "            loss = criterion(out, label)\n",
    "            loss.backward()\n",
    "            opt.step()\n",
    "        print(f\"Finished epoch {epoch + 1}.\")\n",
    "    print(f\"Finished Training!\")\n",
    "    if evaluate:\n",
    "        print(\"Evaluating\")\n",
    "        evaluate(model, test_dl)"
   ]
  },
  {
   "cell_type": "code",
   "execution_count": 199,
   "id": "244d65a7",
   "metadata": {},
   "outputs": [
    {
     "ename": "NotImplementedError",
     "evalue": "",
     "output_type": "error",
     "traceback": [
      "\u001b[0;31m---------------------------------------------------------------------------\u001b[0m",
      "\u001b[0;31mNotImplementedError\u001b[0m                       Traceback (most recent call last)",
      "Input \u001b[0;32mIn [199]\u001b[0m, in \u001b[0;36m<cell line: 1>\u001b[0;34m()\u001b[0m\n\u001b[0;32m----> 1\u001b[0m model \u001b[38;5;241m=\u001b[39m \u001b[43mLeNet\u001b[49m\u001b[43m(\u001b[49m\u001b[43m)\u001b[49m\n",
      "Input \u001b[0;32mIn [197]\u001b[0m, in \u001b[0;36mLeNet.__init__\u001b[0;34m(self)\u001b[0m\n\u001b[1;32m      3\u001b[0m \u001b[38;5;28;01mdef\u001b[39;00m \u001b[38;5;21m__init__\u001b[39m(\u001b[38;5;28mself\u001b[39m):\n\u001b[1;32m      4\u001b[0m     \u001b[38;5;28msuper\u001b[39m()\u001b[38;5;241m.\u001b[39m\u001b[38;5;21m__init__\u001b[39m()\n\u001b[0;32m----> 5\u001b[0m     \u001b[38;5;28;01mraise\u001b[39;00m \u001b[38;5;167;01mNotImplementedError\u001b[39;00m\n",
      "\u001b[0;31mNotImplementedError\u001b[0m: "
     ]
    }
   ],
   "source": [
    "model = LeNet()"
   ]
  },
  {
   "cell_type": "code",
   "execution_count": null,
   "id": "350b6c24",
   "metadata": {},
   "outputs": [],
   "source": [
    "train(model, train_dl, test_dl)"
   ]
  }
 ],
 "metadata": {
  "kernelspec": {
   "display_name": "Python 3 (ipykernel)",
   "language": "python",
   "name": "python3"
  },
  "language_info": {
   "codemirror_mode": {
    "name": "ipython",
    "version": 3
   },
   "file_extension": ".py",
   "mimetype": "text/x-python",
   "name": "python",
   "nbconvert_exporter": "python",
   "pygments_lexer": "ipython3",
   "version": "3.8.13"
  }
 },
 "nbformat": 4,
 "nbformat_minor": 5
}
